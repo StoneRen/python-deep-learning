{
 "cells": [
  {
   "cell_type": "code",
   "execution_count": 2,
   "id": "71583957",
   "metadata": {},
   "outputs": [
    {
     "name": "stdout",
     "output_type": "stream",
     "text": [
      "train_data[0]: [1, 14, 22, 16, 43, 530, 973, 1622, 1385, 65, 458, 4468, 66, 3941, 4, 173, 36, 256, 5, 25, 100, 43, 838, 112, 50, 670, 2, 9, 35, 480, 284, 5, 150, 4, 172, 112, 167, 2, 336, 385, 39, 4, 172, 4536, 1111, 17, 546, 38, 13, 447, 4, 192, 50, 16, 6, 147, 2025, 19, 14, 22, 4, 1920, 4613, 469, 4, 22, 71, 87, 12, 16, 43, 530, 38, 76, 15, 13, 1247, 4, 22, 17, 515, 17, 12, 16, 626, 18, 2, 5, 62, 386, 12, 8, 316, 8, 106, 5, 4, 2223, 5244, 16, 480, 66, 3785, 33, 4, 130, 12, 16, 38, 619, 5, 25, 124, 51, 36, 135, 48, 25, 1415, 33, 6, 22, 12, 215, 28, 77, 52, 5, 14, 407, 16, 82, 2, 8, 4, 107, 117, 5952, 15, 256, 4, 2, 7, 3766, 5, 723, 36, 71, 43, 530, 476, 26, 400, 317, 46, 7, 4, 2, 1029, 13, 104, 88, 4, 381, 15, 297, 98, 32, 2071, 56, 26, 141, 6, 194, 7486, 18, 4, 226, 22, 21, 134, 476, 26, 480, 5, 144, 30, 5535, 18, 51, 36, 28, 224, 92, 25, 104, 4, 226, 65, 16, 38, 1334, 88, 12, 16, 283, 5, 16, 4472, 113, 103, 32, 15, 16, 5345, 19, 178, 32]\n",
      "train_labels[0]: 1\n"
     ]
    }
   ],
   "source": [
    "# 加载IMDB数据集\n",
    "from keras.datasets import imdb\n",
    "\n",
    "(train_data, train_labels), (test_data, test_labels) = imdb.load_data(num_words=10000)"
   ]
  },
  {
   "cell_type": "code",
   "execution_count": null,
   "id": "27769346",
   "metadata": {},
   "outputs": [],
   "source": [
    "print(\"train_data[0]:\",train_data[0])\n",
    "print(\"train_labels[0]:\",train_labels[0])"
   ]
  },
  {
   "cell_type": "code",
   "execution_count": 7,
   "id": "4d05cc6d",
   "metadata": {},
   "outputs": [],
   "source": [
    "# 将评论解码为单词\n",
    "word_index = imdb.get_word_index()\n",
    "reverse_word_index = dict([(value, key) for (key, value) in word_index.items()])\n",
    "# 为甚i-3，因为作者预留了3个特殊数字[0,1,2],0代表padding，1代表start of sequence，2代表unknown，\n",
    "decoded_review = ' '.join([reverse_word_index.get(i - 3, '?') for i in train_data[0]])"
   ]
  },
  {
   "cell_type": "code",
   "execution_count": 8,
   "id": "e9d7f352",
   "metadata": {},
   "outputs": [
    {
     "data": {
      "text/plain": [
       "\"? this film was just brilliant casting location scenery story direction everyone's really suited the part they played and you could just imagine being there robert ? is an amazing actor and now the same being director ? father came from the same scottish island as myself so i loved the fact there was a real connection with this film the witty remarks throughout the film were great it was just brilliant so much that i bought the film as soon as it was released for ? and would recommend it to everyone to watch and the fly fishing was amazing really cried at the end it was so sad and you know what they say if you cry at a film it must have been good and this definitely was also ? to the two little boy's that played the ? of norman and paul they were just brilliant children are often left out of the ? list i think because the stars that play them all grown up are such a big profile for the whole film but these children are amazing and should be praised for what they have done don't you think the whole story was so lovely because it was true and was someone's life after all that was shared with us all\""
      ]
     },
     "execution_count": 8,
     "metadata": {},
     "output_type": "execute_result"
    }
   ],
   "source": [
    "decoded_review"
   ]
  },
  {
   "cell_type": "code",
   "execution_count": 12,
   "id": "343dbccc",
   "metadata": {},
   "outputs": [
    {
     "name": "stdout",
     "output_type": "stream",
     "text": [
      "the\n",
      "and\n",
      "a\n"
     ]
    }
   ],
   "source": [
    "# 看看英文的TOP3单词\n",
    "print(reverse_word_index.get(1))\n",
    "print(reverse_word_index.get(2))\n",
    "print(reverse_word_index.get(3))"
   ]
  },
  {
   "cell_type": "markdown",
   "id": "1bb425b1",
   "metadata": {},
   "source": [
    "###准备数据\n",
    "需要将列表转换为张量，转换方法：\n",
    "1. 填充列表，比如每篇影评统一取100字\n",
    "2. 对列表进行one-hot编码，将其转换为0和1组成的向量\n",
    "![img](images/003-003.png)\n",
    "\n",
    "实现代码如下："
   ]
  },
  {
   "cell_type": "code",
   "execution_count": 13,
   "id": "aa80df26",
   "metadata": {},
   "outputs": [],
   "source": [
    "import numpy as np\n",
    "\n",
    "def vectorize_sequences(sequences, dimension=10000):\n",
    "    results = np.zeros((len(sequences), dimension))\n",
    "    for i, sequence in enumerate(sequences):\n",
    "        results[i, sequence] = 1.\n",
    "    return results\n",
    "\n",
    "x_train = vectorize_sequences(train_data)\n",
    "x_test = vectorize_sequences(test_data)"
   ]
  },
  {
   "cell_type": "code",
   "execution_count": 14,
   "id": "2b91c6b8",
   "metadata": {},
   "outputs": [
    {
     "data": {
      "text/plain": [
       "array([0., 1., 1., ..., 0., 0., 0.])"
      ]
     },
     "execution_count": 14,
     "metadata": {},
     "output_type": "execute_result"
    }
   ],
   "source": [
    "x_train[0]"
   ]
  },
  {
   "cell_type": "code",
   "execution_count": 15,
   "id": "5155cb25",
   "metadata": {},
   "outputs": [],
   "source": [
    "# 将标签转换为one-hot向量\n",
    "y_train = np.asarray(train_labels).astype('float32')\n",
    "y_test = np.asarray(test_labels).astype('float32')"
   ]
  },
  {
   "cell_type": "markdown",
   "id": "922420fd",
   "metadata": {},
   "source": [
    "以上已经把数据准备好了，下面要构建网络\n",
    "\n",
    "## 构建网络\n",
    "输入的数据是向量，标签是标量（0和1），这是最简单的情况。\n",
    "每个带有relu激活的Dense层都实现了下列张量运算：\n",
    "```python\n",
    "output = relu(dot(w,input) + b)\n",
    "```\n",
    " 对于这种Dense层的堆叠，需要确定一下2个关键架构\n",
    " 1. 网络有多少层\n",
    " 2. 每层有多少个隐藏单元\n",
    "\n",
    " 在本例子中，我们采用了如下架构：\n",
    " 1. 两个中间层，每层有16个隐藏单元\n",
    " 2. 第三层输出一个标量，预测当前评论的情感\n",
    "\n",
    " 中间层使用relu作为激活函数，最后一层用sigmoid激活以输出一个0-1范围内的概率值\n",
    "\n",
    "relu函数和sigmoid函数图象如下：\n",
    "![img](images/003-004.png)"
   ]
  },
  {
   "cell_type": "code",
   "execution_count": 16,
   "id": "f85aafa4",
   "metadata": {},
   "outputs": [
    {
     "name": "stderr",
     "output_type": "stream",
     "text": [
      "2021-12-12 21:40:33.884538: I tensorflow/core/platform/cpu_feature_guard.cc:151] This TensorFlow binary is optimized with oneAPI Deep Neural Network Library (oneDNN) to use the following CPU instructions in performance-critical operations:  AVX2 FMA\n",
      "To enable them in other operations, rebuild TensorFlow with the appropriate compiler flags.\n"
     ]
    }
   ],
   "source": [
    "from keras import models\n",
    "from keras import layers\n",
    "\n",
    "model = models.Sequential()\n",
    "model.add(layers.Dense(16, activation='relu', input_shape=(10000,)))\n",
    "model.add(layers.Dense(16, activation='relu'))\n",
    "model.add(layers.Dense(1, activation='sigmoid'))"
   ]
  },
  {
   "cell_type": "code",
   "execution_count": 17,
   "id": "82e64d9d",
   "metadata": {},
   "outputs": [
    {
     "name": "stdout",
     "output_type": "stream",
     "text": [
      "Model: \"sequential\"\n",
      "_________________________________________________________________\n",
      " Layer (type)                Output Shape              Param #   \n",
      "=================================================================\n",
      " dense (Dense)               (None, 16)                160016    \n",
      "                                                                 \n",
      " dense_1 (Dense)             (None, 16)                272       \n",
      "                                                                 \n",
      " dense_2 (Dense)             (None, 1)                 17        \n",
      "                                                                 \n",
      "=================================================================\n",
      "Total params: 160,305\n",
      "Trainable params: 160,305\n",
      "Non-trainable params: 0\n",
      "_________________________________________________________________\n"
     ]
    }
   ],
   "source": [
    "model.summary()"
   ]
  },
  {
   "cell_type": "markdown",
   "id": "97181641",
   "metadata": {},
   "source": [
    "图示：\n",
    "![img](images/003-005.png)"
   ]
  },
  {
   "cell_type": "code",
   "execution_count": 18,
   "id": "795567ee",
   "metadata": {},
   "outputs": [],
   "source": [
    "#  编译模型\n",
    "model.compile(optimizer='rmsprop',\n",
    "                            loss='binary_crossentropy', \n",
    "                            metrics=['accuracy'])"
   ]
  },
  {
   "cell_type": "markdown",
   "id": "ea52c91b",
   "metadata": {},
   "source": [
    "为了在训练过程中监控模型在之前未见的数据上的精度，需要将原始训练数据留出1万个样本作为验证集"
   ]
  },
  {
   "cell_type": "code",
   "execution_count": 19,
   "id": "cf14c158",
   "metadata": {},
   "outputs": [],
   "source": [
    "# 留出验证集\n",
    "x_val = x_train[:10000]\n",
    "partial_x_train = x_train[10000:]\n",
    "\n",
    "y_val = y_train[:10000]\n",
    "partial_y_train = y_train[10000:]"
   ]
  },
  {
   "cell_type": "code",
   "execution_count": 20,
   "id": "88ac5316",
   "metadata": {},
   "outputs": [
    {
     "name": "stdout",
     "output_type": "stream",
     "text": [
      "Epoch 1/20\n",
      "30/30 [==============================] - 3s 67ms/step - loss: 0.5247 - accuracy: 0.7895 - val_loss: 0.4035 - val_accuracy: 0.8675\n",
      "Epoch 2/20\n",
      "30/30 [==============================] - 1s 20ms/step - loss: 0.3151 - accuracy: 0.9055 - val_loss: 0.3250 - val_accuracy: 0.8753\n",
      "Epoch 3/20\n",
      "30/30 [==============================] - 0s 15ms/step - loss: 0.2310 - accuracy: 0.9257 - val_loss: 0.2838 - val_accuracy: 0.8880\n",
      "Epoch 4/20\n",
      "30/30 [==============================] - 0s 16ms/step - loss: 0.1827 - accuracy: 0.9417 - val_loss: 0.2730 - val_accuracy: 0.8888\n",
      "Epoch 5/20\n",
      "30/30 [==============================] - 1s 18ms/step - loss: 0.1486 - accuracy: 0.9532 - val_loss: 0.2770 - val_accuracy: 0.8886\n",
      "Epoch 6/20\n",
      "30/30 [==============================] - 1s 18ms/step - loss: 0.1190 - accuracy: 0.9629 - val_loss: 0.2942 - val_accuracy: 0.8864\n",
      "Epoch 7/20\n",
      "30/30 [==============================] - 1s 20ms/step - loss: 0.1021 - accuracy: 0.9693 - val_loss: 0.3144 - val_accuracy: 0.8791\n",
      "Epoch 8/20\n",
      "30/30 [==============================] - 0s 16ms/step - loss: 0.0823 - accuracy: 0.9773 - val_loss: 0.3576 - val_accuracy: 0.8729\n",
      "Epoch 9/20\n",
      "30/30 [==============================] - 0s 17ms/step - loss: 0.0696 - accuracy: 0.9811 - val_loss: 0.3469 - val_accuracy: 0.8810\n",
      "Epoch 10/20\n",
      "30/30 [==============================] - 0s 16ms/step - loss: 0.0548 - accuracy: 0.9867 - val_loss: 0.3906 - val_accuracy: 0.8702\n",
      "Epoch 11/20\n",
      "30/30 [==============================] - 1s 18ms/step - loss: 0.0472 - accuracy: 0.9885 - val_loss: 0.4044 - val_accuracy: 0.8778\n",
      "Epoch 12/20\n",
      "30/30 [==============================] - 1s 17ms/step - loss: 0.0354 - accuracy: 0.9925 - val_loss: 0.4267 - val_accuracy: 0.8769\n",
      "Epoch 13/20\n",
      "30/30 [==============================] - 0s 16ms/step - loss: 0.0289 - accuracy: 0.9935 - val_loss: 0.4611 - val_accuracy: 0.8737\n",
      "Epoch 14/20\n",
      "30/30 [==============================] - 0s 16ms/step - loss: 0.0223 - accuracy: 0.9960 - val_loss: 0.5013 - val_accuracy: 0.8698\n",
      "Epoch 15/20\n",
      "30/30 [==============================] - 0s 16ms/step - loss: 0.0165 - accuracy: 0.9982 - val_loss: 0.5488 - val_accuracy: 0.8705\n",
      "Epoch 16/20\n",
      "30/30 [==============================] - 1s 17ms/step - loss: 0.0139 - accuracy: 0.9985 - val_loss: 0.5751 - val_accuracy: 0.8712\n",
      "Epoch 17/20\n",
      "30/30 [==============================] - 1s 18ms/step - loss: 0.0125 - accuracy: 0.9978 - val_loss: 0.6000 - val_accuracy: 0.8687\n",
      "Epoch 18/20\n",
      "30/30 [==============================] - 0s 16ms/step - loss: 0.0058 - accuracy: 0.9998 - val_loss: 0.6439 - val_accuracy: 0.8691\n",
      "Epoch 19/20\n",
      "30/30 [==============================] - 0s 16ms/step - loss: 0.0086 - accuracy: 0.9984 - val_loss: 0.6642 - val_accuracy: 0.8686\n",
      "Epoch 20/20\n",
      "30/30 [==============================] - 0s 16ms/step - loss: 0.0034 - accuracy: 0.9999 - val_loss: 0.6952 - val_accuracy: 0.8662\n"
     ]
    }
   ],
   "source": [
    "# 训练模型\n",
    "history = model.fit(partial_x_train,\n",
    "                    partial_y_train,  # 只训练部分数据\n",
    "                    epochs=20,\n",
    "                    batch_size=512,\n",
    "                    validation_data=(x_val, y_val)) # 验证集"
   ]
  },
  {
   "cell_type": "code",
   "execution_count": 21,
   "id": "b20bfc0a",
   "metadata": {},
   "outputs": [
    {
     "data": {
      "text/plain": [
       "dict_keys(['loss', 'accuracy', 'val_loss', 'val_accuracy'])"
      ]
     },
     "execution_count": 21,
     "metadata": {},
     "output_type": "execute_result"
    }
   ],
   "source": [
    "history_dict = history.history\n",
    "history_dict.keys()"
   ]
  },
  {
   "cell_type": "code",
   "execution_count": 22,
   "id": "2ee3f824",
   "metadata": {},
   "outputs": [
    {
     "data": {
      "image/png": "[encoded data removed]",
      "text/plain": [
       "<Figure size 432x288 with 1 Axes>"
      ]
     },
     "metadata": {
      "needs_background": "light"
     },
     "output_type": "display_data"
    }
   ],
   "source": [
    "# 回执训练损失和验证损失\n",
    "import matplotlib.pyplot as plt\n",
    "\n",
    "history_dict = history.history\n",
    "loss_values = history_dict['loss']\n",
    "val_loss_values = history_dict['val_loss']\n",
    "\n",
    "epochs = range(1, len(loss_values) + 1)\n",
    "\n",
    "plt.plot(epochs, loss_values, 'bo', label='Training loss')\n",
    "plt.plot(epochs, val_loss_values, 'b', label='Validation loss')\n",
    "plt.title('Training and validation loss')\n",
    "plt.xlabel('Epochs')\n",
    "plt.ylabel('Loss')\n",
    "plt.legend()\n",
    "\n",
    "plt.show()"
   ]
  },
  {
   "cell_type": "markdown",
   "id": "64b9b141",
   "metadata": {},
   "source": [
    "上面这个图形表示，虽然我们的训练损失越来越小，也就是预测越来越准确，但是验证损失越来越大，也就是训练测试过多了，训练这么多后面浪费掉了，看图例只要训练4次就可以"
   ]
  },
  {
   "cell_type": "code",
   "execution_count": 23,
   "id": "9bbb69d4",
   "metadata": {},
   "outputs": [
    {
     "name": "stdout",
     "output_type": "stream",
     "text": [
      "Epoch 1/4\n",
      "49/49 [==============================] - 1s 9ms/step - loss: 0.2334 - accuracy: 0.9462\n",
      "Epoch 2/4\n",
      "49/49 [==============================] - 0s 9ms/step - loss: 0.1345 - accuracy: 0.9601\n",
      "Epoch 3/4\n",
      "49/49 [==============================] - 0s 9ms/step - loss: 0.1040 - accuracy: 0.9685\n",
      "Epoch 4/4\n",
      "49/49 [==============================] - 1s 11ms/step - loss: 0.0830 - accuracy: 0.9738\n",
      "782/782 [==============================] - 1s 2ms/step - loss: 0.4851 - accuracy: 0.8607: 1s - loss:\n"
     ]
    }
   ],
   "source": [
    "model.fit(x_train, y_train, epochs=4, batch_size=512)\n",
    "results = model.evaluate(x_test, y_test)"
   ]
  },
  {
   "cell_type": "code",
   "execution_count": 24,
   "id": "cfd2ee82",
   "metadata": {},
   "outputs": [
    {
     "data": {
      "text/plain": [
       "[0.4850534498691559, 0.8606799840927124]"
      ]
     },
     "execution_count": 24,
     "metadata": {},
     "output_type": "execute_result"
    }
   ],
   "source": [
    "results"
   ]
  },
  {
   "cell_type": "markdown",
   "id": "65b794f5",
   "metadata": {},
   "source": [
    "只做4次就能到86%以上的准确率了"
   ]
  }
 ],
 "metadata": {
  "kernelspec": {
   "display_name": "Python 3 (ipykernel)",
   "language": "python",
   "name": "python3"
  },
  "language_info": {
   "codemirror_mode": {
    "name": "ipython",
    "version": 3
   },
   "file_extension": ".py",
   "mimetype": "text/x-python",
   "name": "python",
   "nbconvert_exporter": "python",
   "pygments_lexer": "ipython3",
   "version": "3.9.7"
  }
 },
 "nbformat": 4,
 "nbformat_minor": 5
}
