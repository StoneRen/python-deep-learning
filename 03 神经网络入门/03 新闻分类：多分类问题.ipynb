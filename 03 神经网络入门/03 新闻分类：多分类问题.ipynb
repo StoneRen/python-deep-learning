{
 "cells": [
  {
   "cell_type": "code",
   "execution_count": 9,
   "id": "2f9b1162",
   "metadata": {},
   "outputs": [],
   "source": [
    "#  加载数据集\n",
    "from keras.datasets import reuters\n",
    "\n",
    "(train_data, train_labels), (test_data, test_labels) = reuters.load_data(num_words=10000)"
   ]
  },
  {
   "cell_type": "markdown",
   "id": "c0a311a5",
   "metadata": {},
   "source": [
    "和IMDB一样，讲数据限定为前1万个最长出现的单词"
   ]
  },
  {
   "cell_type": "code",
   "execution_count": 10,
   "id": "12f4694d",
   "metadata": {},
   "outputs": [
    {
     "name": "stdout",
     "output_type": "stream",
     "text": [
      "train_data.length: 8982\n",
      "test_data.length: 2246\n"
     ]
    }
   ],
   "source": [
    "print(\"train_data.length:\", len(train_data))\n",
    "print(\"test_data.length:\", len(test_data))"
   ]
  },
  {
   "cell_type": "code",
   "execution_count": 11,
   "id": "78fcbdb6",
   "metadata": {},
   "outputs": [],
   "source": [
    "# 将索引解码为新闻文本\n",
    "word_index = reuters.get_word_index()\n",
    "reverse_word_index = dict([(value, key) for (key, value) in word_index.items()])\n",
    "decoded_newswire = ' '.join([reverse_word_index.get(i - 3, '?') for i in train_data[0]])"
   ]
  },
  {
   "cell_type": "markdown",
   "id": "913aeecb",
   "metadata": {},
   "source": [
    "这一段和上节imdb评论一样"
   ]
  },
  {
   "cell_type": "code",
   "execution_count": 12,
   "id": "1bb38f1a",
   "metadata": {},
   "outputs": [],
   "source": [
    "# 编码数据\n",
    "import numpy as np\n",
    "\n",
    "def vectorize_sequences(sequences, dimension=10000):\n",
    "    results = np.zeros((len(sequences), dimension))\n",
    "    for i, sequence in enumerate(sequences):\n",
    "        results[i, sequence] = 1.\n",
    "    return results\n",
    "\n",
    "# 将数据编码为向量\n",
    "x_train = vectorize_sequences(train_data)\n",
    "x_test = vectorize_sequences(test_data)"
   ]
  },
  {
   "cell_type": "code",
   "execution_count": 13,
   "id": "58454f85",
   "metadata": {},
   "outputs": [
    {
     "name": "stdout",
     "output_type": "stream",
     "text": [
      "train_label[0]: 3\n"
     ]
    }
   ],
   "source": [
    "print(\"train_label[0]:\", train_labels[0])"
   ]
  },
  {
   "cell_type": "code",
   "execution_count": 14,
   "id": "1f7e1e1d",
   "metadata": {},
   "outputs": [],
   "source": [
    "# 将标签转换为one-hot向量\n",
    "def to_one_hot(labels, dimension=46):\n",
    "  results = np.zeros((len(labels), dimension))\n",
    "  for i, label in enumerate(labels):\n",
    "    results[i, label] = 1.\n",
    "  return results\n",
    "\n",
    "one_hot_train_labels = to_one_hot(train_labels)\n",
    "one_hot_test_labels = to_one_hot(test_labels)"
   ]
  },
  {
   "cell_type": "code",
   "execution_count": 6,
   "id": "099ef1fe",
   "metadata": {},
   "outputs": [
    {
     "name": "stdout",
     "output_type": "stream",
     "text": [
      "one_hot_train_labels[0]: [0. 0. 0. 1. 0. 0. 0. 0. 0. 0. 0. 0. 0. 0. 0. 0. 0. 0. 0. 0. 0. 0. 0. 0.\n",
      " 0. 0. 0. 0. 0. 0. 0. 0. 0. 0. 0. 0. 0. 0. 0. 0. 0. 0. 0. 0. 0. 0.]\n"
     ]
    }
   ],
   "source": [
    "print(\"one_hot_train_labels[0]:\", one_hot_train_labels[0])"
   ]
  },
  {
   "cell_type": "markdown",
   "id": "2f9f9c06",
   "metadata": {},
   "source": [
    "以上编码的图示：\n",
    "![img](images/003-006.png)\n",
    "\n",
    "`to_one_hot`这个方法，keras内置了类似的函数，就是`to_categorical`,上面这段代码可以调整为:"
   ]
  },
  {
   "cell_type": "code",
   "execution_count": 15,
   "id": "a1c5bcc1",
   "metadata": {},
   "outputs": [],
   "source": [
    "from keras.utils.np_utils import to_categorical\n",
    "\n",
    "one_hot_train_labels = to_categorical(train_labels)\n",
    "one_hot_test_labels = to_categorical(test_labels)"
   ]
  },
  {
   "cell_type": "code",
   "execution_count": 8,
   "id": "e6144e01",
   "metadata": {},
   "outputs": [
    {
     "name": "stdout",
     "output_type": "stream",
     "text": [
      "one_hot_train_labels[0]: [0. 0. 0. 1. 0. 0. 0. 0. 0. 0. 0. 0. 0. 0. 0. 0. 0. 0. 0. 0. 0. 0. 0. 0.\n",
      " 0. 0. 0. 0. 0. 0. 0. 0. 0. 0. 0. 0. 0. 0. 0. 0. 0. 0. 0. 0. 0. 0.]\n"
     ]
    }
   ],
   "source": [
    "# 和上面的结果一致\n",
    "print(\"one_hot_train_labels[0]:\", one_hot_train_labels[0])"
   ]
  },
  {
   "cell_type": "code",
   "execution_count": 16,
   "id": "e3a2a454",
   "metadata": {},
   "outputs": [
    {
     "name": "stderr",
     "output_type": "stream",
     "text": [
      "2021-12-13 10:14:21.536378: I tensorflow/core/platform/cpu_feature_guard.cc:151] This TensorFlow binary is optimized with oneAPI Deep Neural Network Library (oneDNN) to use the following CPU instructions in performance-critical operations:  AVX2 FMA\n",
      "To enable them in other operations, rebuild TensorFlow with the appropriate compiler flags.\n"
     ]
    }
   ],
   "source": [
    "# 构建网络\n",
    "from keras import models\n",
    "from keras import layers\n",
    "\n",
    "model = models.Sequential()\n",
    "model.add(layers.Dense(64, activation='relu', input_shape=(10000,)))\n",
    "model.add(layers.Dense(64, activation='relu'))\n",
    "model.add(layers.Dense(46, activation='softmax'))"
   ]
  },
  {
   "cell_type": "markdown",
   "id": "f48dea80",
   "metadata": {},
   "source": [
    "这段代码和之前一样，构建多层网络，只不过增加了Dense层"
   ]
  },
  {
   "cell_type": "code",
   "execution_count": 17,
   "id": "afbe7831",
   "metadata": {},
   "outputs": [],
   "source": [
    "# 编译模型\n",
    "model.compile(optimizer='rmsprop',\n",
    "              loss='categorical_crossentropy',\n",
    "              metrics=['accuracy'])"
   ]
  },
  {
   "cell_type": "code",
   "execution_count": 18,
   "id": "a710a9dd",
   "metadata": {},
   "outputs": [
    {
     "name": "stdout",
     "output_type": "stream",
     "text": [
      "Model: \"sequential\"\n",
      "_________________________________________________________________\n",
      " Layer (type)                Output Shape              Param #   \n",
      "=================================================================\n",
      " dense (Dense)               (None, 64)                640064    \n",
      "                                                                 \n",
      " dense_1 (Dense)             (None, 64)                4160      \n",
      "                                                                 \n",
      " dense_2 (Dense)             (None, 46)                2990      \n",
      "                                                                 \n",
      "=================================================================\n",
      "Total params: 647,214\n",
      "Trainable params: 647,214\n",
      "Non-trainable params: 0\n",
      "_________________________________________________________________\n"
     ]
    }
   ],
   "source": [
    "# 看看我们的模型到底是什么\n",
    "model.summary() "
   ]
  },
  {
   "cell_type": "code",
   "execution_count": 19,
   "id": "aacbf581",
   "metadata": {},
   "outputs": [],
   "source": [
    "# 验证集\n",
    "x_val = x_train[:1000]\n",
    "partial_x_train = x_train[1000:]\n",
    "\n",
    "y_val = one_hot_train_labels[:1000]\n",
    "partial_y_train = one_hot_train_labels[1000:]"
   ]
  },
  {
   "cell_type": "code",
   "execution_count": 20,
   "id": "910f447a",
   "metadata": {},
   "outputs": [
    {
     "name": "stdout",
     "output_type": "stream",
     "text": [
      "Epoch 1/20\n",
      "16/16 [==============================] - 1s 37ms/step - loss: 2.6115 - accuracy: 0.5080 - val_loss: 1.7273 - val_accuracy: 0.6410\n",
      "Epoch 2/20\n",
      "16/16 [==============================] - 0s 20ms/step - loss: 1.4176 - accuracy: 0.7136 - val_loss: 1.2835 - val_accuracy: 0.7230\n",
      "Epoch 3/20\n",
      "16/16 [==============================] - 0s 21ms/step - loss: 1.0406 - accuracy: 0.7742 - val_loss: 1.1063 - val_accuracy: 0.7500\n",
      "Epoch 4/20\n",
      "16/16 [==============================] - 0s 21ms/step - loss: 0.8211 - accuracy: 0.8227 - val_loss: 1.0108 - val_accuracy: 0.7790\n",
      "Epoch 5/20\n",
      "16/16 [==============================] - 0s 23ms/step - loss: 0.6542 - accuracy: 0.8641 - val_loss: 0.9395 - val_accuracy: 0.8110\n",
      "Epoch 6/20\n",
      "16/16 [==============================] - 0s 20ms/step - loss: 0.5252 - accuracy: 0.8944 - val_loss: 0.9128 - val_accuracy: 0.8040\n",
      "Epoch 7/20\n",
      "16/16 [==============================] - 0s 20ms/step - loss: 0.4221 - accuracy: 0.9136 - val_loss: 0.9328 - val_accuracy: 0.7890\n",
      "Epoch 8/20\n",
      "16/16 [==============================] - 0s 22ms/step - loss: 0.3498 - accuracy: 0.9280 - val_loss: 0.8937 - val_accuracy: 0.8140\n",
      "Epoch 9/20\n",
      "16/16 [==============================] - 0s 21ms/step - loss: 0.2844 - accuracy: 0.9357 - val_loss: 0.9262 - val_accuracy: 0.7970\n",
      "Epoch 10/20\n",
      "16/16 [==============================] - 0s 22ms/step - loss: 0.2446 - accuracy: 0.9446 - val_loss: 0.9095 - val_accuracy: 0.8110\n",
      "Epoch 11/20\n",
      "16/16 [==============================] - 0s 21ms/step - loss: 0.2093 - accuracy: 0.9488 - val_loss: 0.9848 - val_accuracy: 0.8020\n",
      "Epoch 12/20\n",
      "16/16 [==============================] - 0s 21ms/step - loss: 0.1845 - accuracy: 0.9516 - val_loss: 0.9388 - val_accuracy: 0.8100\n",
      "Epoch 13/20\n",
      "16/16 [==============================] - 0s 22ms/step - loss: 0.1719 - accuracy: 0.9550 - val_loss: 0.9400 - val_accuracy: 0.8110\n",
      "Epoch 14/20\n",
      "16/16 [==============================] - 0s 22ms/step - loss: 0.1512 - accuracy: 0.9539 - val_loss: 1.0061 - val_accuracy: 0.8090\n",
      "Epoch 15/20\n",
      "16/16 [==============================] - 0s 21ms/step - loss: 0.1452 - accuracy: 0.9545 - val_loss: 0.9698 - val_accuracy: 0.8090\n",
      "Epoch 16/20\n",
      "16/16 [==============================] - 0s 25ms/step - loss: 0.1325 - accuracy: 0.9560 - val_loss: 0.9803 - val_accuracy: 0.8080\n",
      "Epoch 17/20\n",
      "16/16 [==============================] - 0s 26ms/step - loss: 0.1290 - accuracy: 0.9555 - val_loss: 1.0118 - val_accuracy: 0.8080\n",
      "Epoch 18/20\n",
      "16/16 [==============================] - 0s 21ms/step - loss: 0.1236 - accuracy: 0.9563 - val_loss: 1.0653 - val_accuracy: 0.8090\n",
      "Epoch 19/20\n",
      "16/16 [==============================] - 0s 20ms/step - loss: 0.1165 - accuracy: 0.9577 - val_loss: 1.0524 - val_accuracy: 0.8070\n",
      "Epoch 20/20\n",
      "16/16 [==============================] - 0s 20ms/step - loss: 0.1116 - accuracy: 0.9593 - val_loss: 1.0416 - val_accuracy: 0.8110\n"
     ]
    }
   ],
   "source": [
    "history = model.fit(partial_x_train,\n",
    "                                partial_y_train,\n",
    "                                epochs=20,\n",
    "                                batch_size=512,\n",
    "                                validation_data=(x_val, y_val))"
   ]
  },
  {
   "cell_type": "code",
   "execution_count": 21,
   "id": "0fcce7b6",
   "metadata": {},
   "outputs": [
    {
     "data": {
      "image/png": "[encoded data removed]",
      "text/plain": [
       "<Figure size 432x288 with 1 Axes>"
      ]
     },
     "metadata": {
      "needs_background": "light"
     },
     "output_type": "display_data"
    }
   ],
   "source": [
    "# 绘制训练损失\n",
    "import matplotlib.pyplot as plt\n",
    "\n",
    "loss = history.history['loss']\n",
    "val_loss = history.history['val_loss']\n",
    "\n",
    "epochs = range(1, len(loss) + 1)\n",
    "\n",
    "plt.plot(epochs, loss, 'bo', label='Training loss')\n",
    "plt.plot(epochs, val_loss, 'b', label='Validation loss')\n",
    "plt.title('Training and validation loss')\n",
    "plt.xlabel('Epochs')\n",
    "plt.ylabel('Loss')\n",
    "plt.legend()\n",
    "\n",
    "plt.show()"
   ]
  },
  {
   "cell_type": "markdown",
   "id": "6623f8c3",
   "metadata": {},
   "source": [
    "从图示看，epoch为10次的时候，已经足够了，最终训练代码"
   ]
  },
  {
   "cell_type": "code",
   "execution_count": 22,
   "id": "7cdac459",
   "metadata": {},
   "outputs": [
    {
     "name": "stdout",
     "output_type": "stream",
     "text": [
      "Epoch 1/9\n",
      "16/16 [==============================] - 1s 33ms/step - loss: 0.1129 - accuracy: 0.9569 - val_loss: 1.0956 - val_accuracy: 0.8020\n",
      "Epoch 2/9\n",
      "16/16 [==============================] - 0s 19ms/step - loss: 0.1056 - accuracy: 0.9589 - val_loss: 1.0890 - val_accuracy: 0.7980\n",
      "Epoch 3/9\n",
      "16/16 [==============================] - 0s 26ms/step - loss: 0.1070 - accuracy: 0.9568 - val_loss: 1.1390 - val_accuracy: 0.7980\n",
      "Epoch 4/9\n",
      "16/16 [==============================] - 0s 22ms/step - loss: 0.1022 - accuracy: 0.9579 - val_loss: 1.1094 - val_accuracy: 0.8010\n",
      "Epoch 5/9\n",
      "16/16 [==============================] - 0s 22ms/step - loss: 0.1017 - accuracy: 0.9584 - val_loss: 1.1454 - val_accuracy: 0.7980\n",
      "Epoch 6/9\n",
      "16/16 [==============================] - 0s 20ms/step - loss: 0.0990 - accuracy: 0.9572 - val_loss: 1.1668 - val_accuracy: 0.8040\n",
      "Epoch 7/9\n",
      "16/16 [==============================] - 0s 24ms/step - loss: 0.1001 - accuracy: 0.9582 - val_loss: 1.2876 - val_accuracy: 0.7830\n",
      "Epoch 8/9\n",
      "16/16 [==============================] - 0s 21ms/step - loss: 0.0974 - accuracy: 0.9583 - val_loss: 1.1529 - val_accuracy: 0.8040\n",
      "Epoch 9/9\n",
      "16/16 [==============================] - 0s 20ms/step - loss: 0.0945 - accuracy: 0.9593 - val_loss: 1.1913 - val_accuracy: 0.8000\n",
      "71/71 [==============================] - 0s 2ms/step - loss: 1.3777 - accuracy: 0.7796\n"
     ]
    }
   ],
   "source": [
    "model.fit(partial_x_train,\n",
    "                partial_y_train,\n",
    "                epochs=9,\n",
    "                batch_size=512,\n",
    "                validation_data=(x_val, y_val))\n",
    "results = model.evaluate(x_test, one_hot_test_labels)"
   ]
  },
  {
   "cell_type": "code",
   "execution_count": 23,
   "id": "451ad970",
   "metadata": {},
   "outputs": [
    {
     "data": {
      "text/plain": [
       "[1.3776774406433105, 0.7796081900596619]"
      ]
     },
     "execution_count": 23,
     "metadata": {},
     "output_type": "execute_result"
    }
   ],
   "source": [
    "results"
   ]
  },
  {
   "cell_type": "markdown",
   "id": "1c131c63",
   "metadata": {},
   "source": [
    "因为最终输出是46维的，因此中间层的隐藏单元个数不应该比46小太多。如果小于46，会造成信息瓶颈。程序会试图将大量信息压缩到维度很小的中间层，已经不是全部信息了"
   ]
  },
  {
   "cell_type": "markdown",
   "id": "908bb229",
   "metadata": {},
   "source": [
    "## 总结\n",
    "1. 如果要对N个类别进行分类，网络的最后一层应该是大小为N的Dense层\n",
    "2. 对单标签多分类问题，网络的最后一层使用softmax激活，这样可以输出在N个类别上的概率分布\n",
    "![img](images/003-007.png)\n",
    "3. 如果你需要将数据划分到很多类中，应该避免使用太小的中间层，以免在网络中造成信息瓶颈"
   ]
  }
 ],
 "metadata": {
  "kernelspec": {
   "display_name": "Python 3 (ipykernel)",
   "language": "python",
   "name": "python3"
  },
  "language_info": {
   "codemirror_mode": {
    "name": "ipython",
    "version": 3
   },
   "file_extension": ".py",
   "mimetype": "text/x-python",
   "name": "python",
   "nbconvert_exporter": "python",
   "pygments_lexer": "ipython3",
   "version": "3.9.7"
  }
 },
 "nbformat": 4,
 "nbformat_minor": 5
}
