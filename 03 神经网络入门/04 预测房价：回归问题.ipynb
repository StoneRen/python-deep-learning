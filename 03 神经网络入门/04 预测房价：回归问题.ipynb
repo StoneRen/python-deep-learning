{
 "cells": [
  {
   "cell_type": "markdown",
   "id": "35e34fcc",
   "metadata": {},
   "source": [
    "前面2个例子都是分类问题，目标是预测数据数据点所一应的单一离散的标签。还有一类是`回归`问题，与侧一个连续值而不是离散的标签。"
   ]
  },
  {
   "cell_type": "code",
   "execution_count": 1,
   "id": "eb1dca79",
   "metadata": {},
   "outputs": [
    {
     "name": "stdout",
     "output_type": "stream",
     "text": [
      "Downloading data from https://storage.googleapis.com/tensorflow/tf-keras-datasets/boston_housing.npz\n",
      "57344/57026 [==============================] - 0s 3us/step\n",
      "65536/57026 [==================================] - 0s 3us/step\n"
     ]
    }
   ],
   "source": [
    "# 加载数据\n",
    "from keras.datasets import boston_housing\n",
    "\n",
    "(train_data,train_targets),(test_data,test_targets) = boston_housing.load_data()"
   ]
  },
  {
   "cell_type": "code",
   "execution_count": 3,
   "id": "e9c35553",
   "metadata": {},
   "outputs": [
    {
     "name": "stdout",
     "output_type": "stream",
     "text": [
      "train_data.shape (404, 13)\n",
      "test_data.shape (102, 13)\n"
     ]
    }
   ],
   "source": [
    "print(\"train_data.shape\", train_data.shape)\n",
    "print(\"test_data.shape\", test_data.shape)"
   ]
  },
  {
   "cell_type": "markdown",
   "id": "9240c08e",
   "metadata": {},
   "source": [
    "我们有404个训练样本和102个测试样本，每个样本有13个数值特征。"
   ]
  },
  {
   "cell_type": "code",
   "execution_count": 4,
   "id": "6bcc82f1",
   "metadata": {},
   "outputs": [],
   "source": [
    "# 数据标准化\n",
    "'''\n",
    "数值波动不能太大，学习会变困难\n",
    "对特征做标准化\n",
    "对输入数据的每个特征，减去特征平均值，在除以标准差\n",
    "'''\n",
    "mean = train_data.mean(axis=0)\n",
    "train_data -= mean\n",
    "std = train_data.std(axis=0)\n",
    "train_data /= std\n",
    "\n",
    "test_data -= mean\n",
    "test_data /= std"
   ]
  },
  {
   "cell_type": "code",
   "execution_count": 5,
   "id": "31a36eec",
   "metadata": {},
   "outputs": [],
   "source": [
    "# 构建网络\n",
    "from keras import models\n",
    "from keras import layers\n",
    "\n",
    "def build_model():\n",
    "    model = models.Sequential()\n",
    "    model.add(layers.Dense(64, activation='relu',\n",
    "                           input_shape=(train_data.shape[1],)))\n",
    "    model.add(layers.Dense(64, activation='relu'))\n",
    "    model.add(layers.Dense(1))\n",
    "    model.compile(optimizer='rmsprop', loss='mse', metrics=['mae'])\n",
    "    return model"
   ]
  },
  {
   "cell_type": "markdown",
   "id": "8cc2d964",
   "metadata": {},
   "source": [
    "网络的最优一层只有1个单元，没有激活，是一个线性层。这是标量回归的典型设置。添加激活函数会限制输出范围。如果最后一层添加sigmoid激活函数，只会预测0-1范围的值。\n",
    "\n",
    "- MSE: 均方误差 mean sequred error\n",
    "- MAE: 平均绝对误差 mean abosolute error"
   ]
  },
  {
   "cell_type": "markdown",
   "id": "488e5f6a",
   "metadata": {},
   "source": [
    "数据会被划分为训练集和验证集。但是本例中数据点很少，验证集会非常小，因此验证分数会有很大的波动。这种情况下，使用`K折`交叉验证。\n",
    "![img](images/003-008.png)\n",
    "![img](images/003-009.png)"
   ]
  },
  {
   "cell_type": "code",
   "execution_count": 6,
   "id": "d9d1ee19",
   "metadata": {},
   "outputs": [
    {
     "name": "stdout",
     "output_type": "stream",
     "text": [
      "processing fold # 0\n"
     ]
    },
    {
     "name": "stderr",
     "output_type": "stream",
     "text": [
      "2021-12-13 11:17:10.600997: I tensorflow/core/platform/cpu_feature_guard.cc:151] This TensorFlow binary is optimized with oneAPI Deep Neural Network Library (oneDNN) to use the following CPU instructions in performance-critical operations:  AVX2 FMA\n",
      "To enable them in other operations, rebuild TensorFlow with the appropriate compiler flags.\n"
     ]
    },
    {
     "name": "stdout",
     "output_type": "stream",
     "text": [
      "processing fold # 1\n",
      "processing fold # 2\n",
      "processing fold # 3\n"
     ]
    }
   ],
   "source": [
    "import numpy as np\n",
    "\n",
    "k = 4\n",
    "num_val_samples = len(train_data) // k\n",
    "num_epochs = 100\n",
    "all_scores = []\n",
    "\n",
    "for i in range(k):\n",
    "    print('processing fold #', i)\n",
    "    # 分割数据\n",
    "    val_data = train_data[i * num_val_samples: (i + 1) * num_val_samples] # 准备验证数据集\n",
    "    val_targets = train_targets[i * num_val_samples: (i + 1) * num_val_samples]\n",
    "\n",
    "    partial_train_data = np.concatenate(\n",
    "        [train_data[:i * num_val_samples],\n",
    "         train_data[(i + 1) * num_val_samples:]],\n",
    "         axis=0)\n",
    "    partial_train_targets = np.concatenate(\n",
    "        [train_targets[:i * num_val_samples],\n",
    "          train_targets[(i + 1) * num_val_samples:]],\n",
    "          axis=0)\n",
    "\n",
    "    \n",
    "    model = build_model()\n",
    "    model.fit(partial_train_data, partial_train_targets,\n",
    "              epochs=num_epochs, batch_size=1, verbose=0)\n",
    "    val_mse, val_mae = model.evaluate(val_data, val_targets, verbose=0)\n",
    "    all_scores.append(val_mae)"
   ]
  },
  {
   "cell_type": "code",
   "execution_count": 7,
   "id": "96db86ea",
   "metadata": {},
   "outputs": [
    {
     "name": "stdout",
     "output_type": "stream",
     "text": [
      "all_scores [2.041398286819458, 2.400531053543091, 2.9826605319976807, 2.3203766345977783]\n",
      "np.mean(all_scores) 2.436241626739502\n"
     ]
    }
   ],
   "source": [
    "print(\"all_scores: \", all_scores)\n",
    "print(\"np.mean(all_scores): \", np.mean(all_scores))"
   ]
  },
  {
   "cell_type": "markdown",
   "id": "3e58f0aa",
   "metadata": {},
   "source": [
    "从上面数据看，我们预测的最高误差有2980美元，相对比10000-50000美元，差别还是非常大的。所以我们需要训练时间再长一点,并且记录下来。"
   ]
  },
  {
   "cell_type": "code",
   "execution_count": 16,
   "id": "f466bee8",
   "metadata": {},
   "outputs": [],
   "source": [
    "from keras import backend as K\n",
    "\n",
    "K.clear_session()"
   ]
  },
  {
   "cell_type": "code",
   "execution_count": 17,
   "id": "d30b1a25",
   "metadata": {},
   "outputs": [
    {
     "name": "stdout",
     "output_type": "stream",
     "text": [
      "processing fold # 0\n",
      "processing fold # 1\n",
      "processing fold # 2\n",
      "processing fold # 3\n"
     ]
    }
   ],
   "source": [
    "num_epochs = 500\n",
    "all_mae_histories = []\n",
    "\n",
    "for i in range(k):\n",
    "    print('processing fold #', i)\n",
    "    # 分割数据\n",
    "    val_data = train_data[i * num_val_samples: (i + 1) * num_val_samples] # 准备验证数据集\n",
    "    val_targets = train_targets[i * num_val_samples: (i + 1) * num_val_samples]\n",
    "    \n",
    "    partial_train_data = np.concatenate(\n",
    "        [train_data[:i * num_val_samples],\n",
    "         train_data[(i + 1) * num_val_samples:]],\n",
    "         axis=0)\n",
    "    partial_train_targets = np.concatenate(\n",
    "        [train_targets[:i * num_val_samples],\n",
    "          train_targets[(i + 1) * num_val_samples:]],\n",
    "          axis=0)\n",
    "\n",
    "    model = build_model()\n",
    "    history = model.fit(partial_train_data, partial_train_targets,\n",
    "              validation_data=(val_data, val_targets),\n",
    "              epochs=num_epochs, batch_size=1, verbose=0)\n",
    "    mae_history = history.history['val_mae'] # 注意这个地方，key变了，按照书上的代码会错误\n",
    "    all_mae_histories.append(mae_history)"
   ]
  },
  {
   "cell_type": "code",
   "execution_count": 18,
   "id": "87fc500d",
   "metadata": {},
   "outputs": [],
   "source": [
    "average_mae_history = [ np.mean([x[i] for x in all_mae_histories]) for i in range(num_epochs)]"
   ]
  },
  {
   "cell_type": "code",
   "execution_count": 20,
   "id": "741ae82b",
   "metadata": {},
   "outputs": [
    {
     "data": {
      "image/png": "[encoded data removed]",
      "text/plain": [
       "<Figure size 432x288 with 1 Axes>"
      ]
     },
     "metadata": {
      "needs_background": "light"
     },
     "output_type": "display_data"
    }
   ],
   "source": [
    "import matplotlib.pyplot as plt\n",
    "plt.plot(range(1, len(average_mae_history) + 1), average_mae_history)\n",
    "plt.xlabel('Epochs')\n",
    "plt.ylabel('Validation MAE')\n",
    "plt.show()"
   ]
  },
  {
   "cell_type": "markdown",
   "id": "5644291f",
   "metadata": {},
   "source": [
    "上图展示了每轮验证的MAE，由于纵轴范围较大，且数据方差相对较大，很难看清这张图的规律。我们重新会议新的图：\n",
    "- 删除前10个点\n",
    "- 将每个数据点替换为前面数据点的直属移动平均值，已得到光滑的曲线"
   ]
  },
  {
   "cell_type": "code",
   "execution_count": 24,
   "id": "2111b2aa",
   "metadata": {},
   "outputs": [
    {
     "data": {
      "image/png": "[encoded data removed]",
      "text/plain": [
       "<Figure size 432x288 with 1 Axes>"
      ]
     },
     "metadata": {
      "needs_background": "light"
     },
     "output_type": "display_data"
    }
   ],
   "source": [
    "def smooth_curve(points, factor=0.9):\n",
    "    smoothed_points = []\n",
    "    for point in points:\n",
    "        if smoothed_points:\n",
    "            previous = smoothed_points[-1]\n",
    "            smoothed_points.append(previous * factor + point * (1 - factor))\n",
    "        else:\n",
    "            smoothed_points.append(point)\n",
    "    return smoothed_points\n",
    "smooth_mae_history = smooth_curve(average_mae_history[10:])\n",
    "\n",
    "plt.plot(range(1, len(smooth_mae_history) + 1), smooth_mae_history)\n",
    "plt.xlabel('Epochs')\n",
    "plt.ylabel('Validation MAE')\n",
    "plt.show()"
   ]
  },
  {
   "cell_type": "code",
   "execution_count": 25,
   "id": "5be366a9",
   "metadata": {},
   "outputs": [
    {
     "data": {
      "text/plain": [
       "57"
      ]
     },
     "execution_count": 25,
     "metadata": {},
     "output_type": "execute_result"
    }
   ],
   "source": [
    "np.argmin(smooth_mae_history)"
   ]
  },
  {
   "cell_type": "markdown",
   "id": "610192da",
   "metadata": {},
   "source": [
    "从这个图上可以清晰看出，验证MAE在80轮后不再显著降低，开始过拟合了，所以epoch可以设置为80.从代码显示看，epoch为67就差不多了（57+10）"
   ]
  },
  {
   "cell_type": "code",
   "execution_count": 26,
   "id": "9b225060",
   "metadata": {},
   "outputs": [
    {
     "name": "stdout",
     "output_type": "stream",
     "text": [
      "4/4 [==============================] - 0s 955us/step - loss: 17.0276 - mae: 2.5871\n",
      "17.0275936126709\n"
     ]
    }
   ],
   "source": [
    "model = build_model()\n",
    "model.fit(train_data, train_targets,\n",
    "          epochs=67, batch_size=16, verbose=0)\n",
    "test_mse_score, test_mae_score = model.evaluate(test_data, test_targets)\n",
    "print(test_mse_score)"
   ]
  },
  {
   "cell_type": "markdown",
   "id": "7d7c68ab",
   "metadata": {},
   "source": [
    "实际结果比刚才好一点点"
   ]
  }
 ],
 "metadata": {
  "kernelspec": {
   "display_name": "Python 3 (ipykernel)",
   "language": "python",
   "name": "python3"
  },
  "language_info": {
   "codemirror_mode": {
    "name": "ipython",
    "version": 3
   },
   "file_extension": ".py",
   "mimetype": "text/x-python",
   "name": "python",
   "nbconvert_exporter": "python",
   "pygments_lexer": "ipython3",
   "version": "3.9.7"
  }
 },
 "nbformat": 4,
 "nbformat_minor": 5
}
