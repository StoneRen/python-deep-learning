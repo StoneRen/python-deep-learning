{
 "cells": [
  {
   "cell_type": "markdown",
   "id": "f551b25c",
   "metadata": {},
   "source": [
    "训练神经网络主要围绕以下4个方面：\n",
    "1. `层`，多个曾是组合成`网络`（或`模型`）\n",
    "2. `输入数据`和响应的`目标`\n",
    "3. `损失函数`，用于学习的反馈信号\n",
    "4. `优化器`，决定学习过程如何进行\n",
    "\n",
    "它们之间的关系如下：\n",
    "![img](images/003-001.png)\n",
    "\n",
    "- 层：神经网络的基本数据结构\n",
    "- 模型：层构成的网络\n",
    "- 损失函数与优化器：配置学习过程的关键\n",
    "\n",
    "选择正确的目标函数对解决问题非常重要。利用SGD训练一个愚蠢而又无所不能的人工智能，目标函数\"将或者的人的幸福感最大化\"，结果机器为了自己这个目标，会杀死绝大多数人类，只留几个幸福的有钱人。这个故事和刘慈欣的《赡养人类》非常类似。\n",
    "\n",
    "## keras简介\n",
    "\n",
    "具备以下特性：\n",
    "1. 可以同时在cpu和gpu上运行\n",
    "2. 具有更友好的API\n",
    "3. 内置卷积网络（视觉）和循环网络（用于序列处理），以及二者任意的组合\n",
    "4. 支持任意的网络架构：多输入或多输出模型，层共享、模型共享等\n",
    "\n",
    "![img](images/003-002.png)\n",
    "\n",
    "### 概述\n",
    "定义模型2种方法：\n",
    "1. 使用Sequential类，仅用于层的线性堆叠，目前最常见的网络架构\n",
    "2. 使用函数式API，用于层组成的有向无环图，构建任意形式的架构\n",
    "\n"
   ]
  }
 ],
 "metadata": {
  "kernelspec": {
   "display_name": "Python 3 (ipykernel)",
   "language": "python",
   "name": "python3"
  },
  "language_info": {
   "codemirror_mode": {
    "name": "ipython",
    "version": 3
   },
   "file_extension": ".py",
   "mimetype": "text/x-python",
   "name": "python",
   "nbconvert_exporter": "python",
   "pygments_lexer": "ipython3",
   "version": "3.9.7"
  }
 },
 "nbformat": 4,
 "nbformat_minor": 5
}
