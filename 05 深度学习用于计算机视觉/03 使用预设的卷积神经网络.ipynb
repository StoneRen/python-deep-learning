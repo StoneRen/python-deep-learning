{
 "cells": [
  {
   "cell_type": "markdown",
   "metadata": {},
   "source": [
    "使用预训练网络有2中方法：特征提取（feature extraction）和 微调模型（fine-tuning）\n",
    "\n",
    "## 特征提取\n",
    "特征提取就是用之前网络学到的表示来从新样本中提取出有趣的特征，然后将这些特征输入一个新的分类器，从头开始训练。\n",
    "\n",
    "用于图像分类的卷积神经网络包含2部分：一系列池化层和卷积层，最后是一个密集链接分类器。对于卷积神经网络而言，特征提取就是去除之前训练好的网络的卷积基（convolutional base），在上面运行新数据，然后在输出上训练一个新的分类器。\n",
    "\n",
    "![img](images/005-005.png)\n",
    "\n",
    "我们仅仅重复使用卷积基，而密集连接分类器是不能重复利用的。因为卷积基学到的表示更加通用。\n",
    "- 卷积神经网络的特征图表示通用概念在图像中是否存在，无论面对什么样的计算机视觉，这种特征图都可能有用\n",
    "- 分类器学到的表示必然是只针对模型训练的类别，其中仅包含某个类别出现在整张图像中的概率。另外密集连结层舍弃了空间的概念，而物体位置信息仍然由卷积特征图所描述。"
   ]
  },
  {
   "cell_type": "code",
   "execution_count": 1,
   "metadata": {},
   "outputs": [
    {
     "name": "stderr",
     "output_type": "stream",
     "text": [
      "2021-12-18 22:06:17.545254: I tensorflow/core/platform/cpu_feature_guard.cc:151] This TensorFlow binary is optimized with oneAPI Deep Neural Network Library (oneDNN) to use the following CPU instructions in performance-critical operations:  AVX2 FMA\n",
      "To enable them in other operations, rebuild TensorFlow with the appropriate compiler flags.\n"
     ]
    }
   ],
   "source": [
    "from tensorflow.keras.applications import VGG16 # 调整过，版本问题\n",
    "\n",
    "conv_base = VGG16(\n",
    "    weights='imagenet',\n",
    "    include_top=False,\n",
    "    input_shape=(150,150,3)\n",
    ")"
   ]
  },
  {
   "cell_type": "markdown",
   "metadata": {},
   "source": [
    "参数介绍：\n",
    "- weights: 制定模型初始化的权重检查点\n",
    "- include_top: 制定模型是否包含密集连接分类器。imageNet有1000个类别，因为我们自己做类别，所以不需要包含\n",
    "- input_shape: 输入到网络中张量的形状。不传也可以，会自动适配。"
   ]
  },
  {
   "cell_type": "code",
   "execution_count": 2,
   "metadata": {},
   "outputs": [
    {
     "name": "stdout",
     "output_type": "stream",
     "text": [
      "Model: \"vgg16\"\n",
      "_________________________________________________________________\n",
      " Layer (type)                Output Shape              Param #   \n",
      "=================================================================\n",
      " input_1 (InputLayer)        [(None, 150, 150, 3)]     0         \n",
      "                                                                 \n",
      " block1_conv1 (Conv2D)       (None, 150, 150, 64)      1792      \n",
      "                                                                 \n",
      " block1_conv2 (Conv2D)       (None, 150, 150, 64)      36928     \n",
      "                                                                 \n",
      " block1_pool (MaxPooling2D)  (None, 75, 75, 64)        0         \n",
      "                                                                 \n",
      " block2_conv1 (Conv2D)       (None, 75, 75, 128)       73856     \n",
      "                                                                 \n",
      " block2_conv2 (Conv2D)       (None, 75, 75, 128)       147584    \n",
      "                                                                 \n",
      " block2_pool (MaxPooling2D)  (None, 37, 37, 128)       0         \n",
      "                                                                 \n",
      " block3_conv1 (Conv2D)       (None, 37, 37, 256)       295168    \n",
      "                                                                 \n",
      " block3_conv2 (Conv2D)       (None, 37, 37, 256)       590080    \n",
      "                                                                 \n",
      " block3_conv3 (Conv2D)       (None, 37, 37, 256)       590080    \n",
      "                                                                 \n",
      " block3_pool (MaxPooling2D)  (None, 18, 18, 256)       0         \n",
      "                                                                 \n",
      " block4_conv1 (Conv2D)       (None, 18, 18, 512)       1180160   \n",
      "                                                                 \n",
      " block4_conv2 (Conv2D)       (None, 18, 18, 512)       2359808   \n",
      "                                                                 \n",
      " block4_conv3 (Conv2D)       (None, 18, 18, 512)       2359808   \n",
      "                                                                 \n",
      " block4_pool (MaxPooling2D)  (None, 9, 9, 512)         0         \n",
      "                                                                 \n",
      " block5_conv1 (Conv2D)       (None, 9, 9, 512)         2359808   \n",
      "                                                                 \n",
      " block5_conv2 (Conv2D)       (None, 9, 9, 512)         2359808   \n",
      "                                                                 \n",
      " block5_conv3 (Conv2D)       (None, 9, 9, 512)         2359808   \n",
      "                                                                 \n",
      " block5_pool (MaxPooling2D)  (None, 4, 4, 512)         0         \n",
      "                                                                 \n",
      "=================================================================\n",
      "Total params: 14,714,688\n",
      "Trainable params: 14,714,688\n",
      "Non-trainable params: 0\n",
      "_________________________________________________________________\n"
     ]
    }
   ],
   "source": [
    "conv_base.summary()"
   ]
  },
  {
   "cell_type": "markdown",
   "metadata": {},
   "source": [
    "几点说明：\n",
    "1. 1792 = (3x3x3+1)x64\n",
    "2. block1_conv1 (Conv2D)       (None, 150, 150, 64) , 虽然用了卷积，也进行了填充,所以不是148x148，而是150x150"
   ]
  },
  {
   "cell_type": "markdown",
   "metadata": {},
   "source": [
    "接下来有2中方法可供选择：\n",
    "1. 在自己的数据集上运行卷积基，将输出保存成硬盘中的Numpy 数组，然后用这个数据作为输入，输入到独立的密集连接分类器中。这种方法速度快，计算代价低。因为每个输入图像秩序运行一次卷积基。但这种方法不允许使用数据增强\n",
    "2. 在顶部添加 Dense 层来罗占已有模型（即conv_base）。这种方式可以使用数据增强，但是计算代价比较高。"
   ]
  },
  {
   "cell_type": "code",
   "execution_count": 3,
   "metadata": {},
   "outputs": [
    {
     "name": "stdout",
     "output_type": "stream",
     "text": [
      "Found 2000 images belonging to 2 classes.\n",
      "Found 1000 images belonging to 2 classes.\n",
      "Found 1000 images belonging to 2 classes.\n"
     ]
    }
   ],
   "source": [
    "# 不使用数据增强的快速特征提取\n",
    "import os\n",
    "import numpy as np\n",
    "from keras.preprocessing.image import ImageDataGenerator\n",
    "\n",
    "base_dir = '/Users/ren/Desktop/data-samples/dog-and-cats_small'\n",
    "train_dir = os.path.join(base_dir, 'train')\n",
    "validation_dir = os.path.join(base_dir, 'validation')\n",
    "test_dir = os.path.join(base_dir, 'test')\n",
    "\n",
    "datagen = ImageDataGenerator(rescale=1./255)\n",
    "batch_size = 20\n",
    "\n",
    "def extract_features(directory, sample_count):\n",
    "    features = np.zeros(shape=(sample_count, 4, 4, 512))\n",
    "    labels = np.zeros(shape=(sample_count))\n",
    "    generator = datagen.flow_from_directory(\n",
    "        directory,\n",
    "        target_size=(150, 150),\n",
    "        batch_size=batch_size,\n",
    "        class_mode='binary'\n",
    "    )\n",
    "    i = 0\n",
    "    for inputs_batch, labels_batch in generator:\n",
    "        features_batch = conv_base.predict(inputs_batch)\n",
    "        features[i * batch_size : (i + 1) * batch_size] = features_batch\n",
    "        labels[i * batch_size : (i + 1) * batch_size] = labels_batch\n",
    "        i += 1\n",
    "        if i * batch_size >= sample_count:\n",
    "            break\n",
    "    return features, labels\n",
    "\n",
    "train_features, train_labels = extract_features(train_dir, 2000)\n",
    "validation_features, validation_labels = extract_features(validation_dir, 1000)\n",
    "test_features, test_labels = extract_features(test_dir, 1000)"
   ]
  },
  {
   "cell_type": "markdown",
   "metadata": {},
   "source": [
    "这个过程比较漫长，耐心等候，我自己电脑用时2'41''\n",
    "\n",
    "目前，提取的特征形状为(samples,4,4,512)。我们要将其输入到密集连接分类器中，所以首先必须将其形状展平为(samples,8192)。"
   ]
  },
  {
   "cell_type": "code",
   "execution_count": 4,
   "metadata": {},
   "outputs": [],
   "source": [
    "train_features=np.reshape(train_features,(2000,4*4*512))\n",
    "validation_features=np.reshape(validation_features,(1000,4*4*512))\n",
    "test_features=np.reshape(test_features,(1000,4*4*512))"
   ]
  },
  {
   "cell_type": "code",
   "execution_count": 5,
   "metadata": {},
   "outputs": [
    {
     "name": "stderr",
     "output_type": "stream",
     "text": [
      "/usr/local/lib/python3.9/site-packages/keras/optimizer_v2/rmsprop.py:130: UserWarning: The `lr` argument is deprecated, use `learning_rate` instead.\n",
      "  super(RMSprop, self).__init__(name, **kwargs)\n"
     ]
    },
    {
     "name": "stdout",
     "output_type": "stream",
     "text": [
      "Epoch 1/30\n",
      "100/100 [==============================] - 2s 15ms/step - loss: 0.6282 - acc: 0.6415 - val_loss: 0.4428 - val_acc: 0.8330\n",
      "Epoch 2/30\n",
      "100/100 [==============================] - 1s 14ms/step - loss: 0.4346 - acc: 0.8100 - val_loss: 0.3614 - val_acc: 0.8630\n",
      "Epoch 3/30\n",
      "100/100 [==============================] - 1s 14ms/step - loss: 0.3577 - acc: 0.8435 - val_loss: 0.3241 - val_acc: 0.8790\n",
      "Epoch 4/30\n",
      "100/100 [==============================] - 1s 14ms/step - loss: 0.3182 - acc: 0.8695 - val_loss: 0.2995 - val_acc: 0.8920\n",
      "Epoch 5/30\n",
      "100/100 [==============================] - 1s 14ms/step - loss: 0.2903 - acc: 0.8875 - val_loss: 0.2841 - val_acc: 0.8900\n",
      "Epoch 6/30\n",
      "100/100 [==============================] - 1s 14ms/step - loss: 0.2616 - acc: 0.8945 - val_loss: 0.2720 - val_acc: 0.8930\n",
      "Epoch 7/30\n",
      "100/100 [==============================] - 1s 14ms/step - loss: 0.2427 - acc: 0.9085 - val_loss: 0.2632 - val_acc: 0.8950\n",
      "Epoch 8/30\n",
      "100/100 [==============================] - 1s 14ms/step - loss: 0.2369 - acc: 0.9055 - val_loss: 0.2596 - val_acc: 0.8960\n",
      "Epoch 9/30\n",
      "100/100 [==============================] - 1s 14ms/step - loss: 0.2188 - acc: 0.9150 - val_loss: 0.2561 - val_acc: 0.8950\n",
      "Epoch 10/30\n",
      "100/100 [==============================] - 1s 14ms/step - loss: 0.2103 - acc: 0.9245 - val_loss: 0.2582 - val_acc: 0.8940\n",
      "Epoch 11/30\n",
      "100/100 [==============================] - 1s 14ms/step - loss: 0.1973 - acc: 0.9275 - val_loss: 0.2696 - val_acc: 0.8940\n",
      "Epoch 12/30\n",
      "100/100 [==============================] - 1s 14ms/step - loss: 0.1850 - acc: 0.9315 - val_loss: 0.2533 - val_acc: 0.8950\n",
      "Epoch 13/30\n",
      "100/100 [==============================] - 1s 14ms/step - loss: 0.1804 - acc: 0.9350 - val_loss: 0.2456 - val_acc: 0.8980\n",
      "Epoch 14/30\n",
      "100/100 [==============================] - 1s 14ms/step - loss: 0.1736 - acc: 0.9385 - val_loss: 0.2397 - val_acc: 0.8960\n",
      "Epoch 15/30\n",
      "100/100 [==============================] - 1s 14ms/step - loss: 0.1594 - acc: 0.9435 - val_loss: 0.2409 - val_acc: 0.9020\n",
      "Epoch 16/30\n",
      "100/100 [==============================] - 1s 14ms/step - loss: 0.1552 - acc: 0.9405 - val_loss: 0.2441 - val_acc: 0.9010\n",
      "Epoch 17/30\n",
      "100/100 [==============================] - 1s 14ms/step - loss: 0.1513 - acc: 0.9445 - val_loss: 0.2402 - val_acc: 0.8960\n",
      "Epoch 18/30\n",
      "100/100 [==============================] - 1s 14ms/step - loss: 0.1463 - acc: 0.9480 - val_loss: 0.2433 - val_acc: 0.8990\n",
      "Epoch 19/30\n",
      "100/100 [==============================] - 1s 14ms/step - loss: 0.1381 - acc: 0.9530 - val_loss: 0.2357 - val_acc: 0.9010\n",
      "Epoch 20/30\n",
      "100/100 [==============================] - 1s 14ms/step - loss: 0.1370 - acc: 0.9555 - val_loss: 0.2338 - val_acc: 0.9020\n",
      "Epoch 21/30\n",
      "100/100 [==============================] - 1s 14ms/step - loss: 0.1267 - acc: 0.9565 - val_loss: 0.2341 - val_acc: 0.9020\n",
      "Epoch 22/30\n",
      "100/100 [==============================] - 1s 14ms/step - loss: 0.1238 - acc: 0.9580 - val_loss: 0.2358 - val_acc: 0.9000\n",
      "Epoch 23/30\n",
      "100/100 [==============================] - 1s 14ms/step - loss: 0.1213 - acc: 0.9655 - val_loss: 0.2352 - val_acc: 0.9010\n",
      "Epoch 24/30\n",
      "100/100 [==============================] - 1s 14ms/step - loss: 0.1162 - acc: 0.9610 - val_loss: 0.2410 - val_acc: 0.8970\n",
      "Epoch 25/30\n",
      "100/100 [==============================] - 1s 14ms/step - loss: 0.1094 - acc: 0.9660 - val_loss: 0.2352 - val_acc: 0.9020\n",
      "Epoch 26/30\n",
      "100/100 [==============================] - 1s 14ms/step - loss: 0.1056 - acc: 0.9655 - val_loss: 0.2397 - val_acc: 0.8980\n",
      "Epoch 27/30\n",
      "100/100 [==============================] - 1s 14ms/step - loss: 0.0956 - acc: 0.9720 - val_loss: 0.2483 - val_acc: 0.9000\n",
      "Epoch 28/30\n",
      "100/100 [==============================] - 1s 14ms/step - loss: 0.0984 - acc: 0.9660 - val_loss: 0.2454 - val_acc: 0.8970\n",
      "Epoch 29/30\n",
      "100/100 [==============================] - 1s 14ms/step - loss: 0.0900 - acc: 0.9735 - val_loss: 0.2432 - val_acc: 0.9000\n",
      "Epoch 30/30\n",
      "100/100 [==============================] - 1s 14ms/step - loss: 0.0889 - acc: 0.9685 - val_loss: 0.2454 - val_acc: 0.8990\n"
     ]
    }
   ],
   "source": [
    "# 定义密集连接分类器\n",
    "from tensorflow.keras import models\n",
    "from tensorflow.keras import layers\n",
    "from tensorflow.keras import optimizers\n",
    "\n",
    "model = models.Sequential()\n",
    "model.add(layers.Dense(256, activation='relu', input_dim=4*4*512))\n",
    "model.add(layers.Dropout(0.5))\n",
    "model.add(layers.Dense(1, activation='sigmoid'))\n",
    "\n",
    "model.compile(\n",
    "    optimizer=optimizers.RMSprop(lr=2e-5),\n",
    "    loss='binary_crossentropy',\n",
    "    metrics=['acc']\n",
    ")\n",
    "\n",
    "history = model.fit(\n",
    "    train_features,\n",
    "    train_labels,\n",
    "    epochs=30,\n",
    "    batch_size=20,\n",
    "    validation_data=(validation_features, validation_labels)\n",
    ")"
   ]
  },
  {
   "cell_type": "code",
   "execution_count": 6,
   "metadata": {},
   "outputs": [
    {
     "data": {
      "image/png": "[encoded data removed]",
      "text/plain": [
       "<Figure size 432x288 with 1 Axes>"
      ]
     },
     "metadata": {
      "needs_background": "light"
     },
     "output_type": "display_data"
    },
    {
     "data": {
      "image/png": "[encoded data removed]",
      "text/plain": [
       "<Figure size 432x288 with 1 Axes>"
      ]
     },
     "metadata": {
      "needs_background": "light"
     },
     "output_type": "display_data"
    }
   ],
   "source": [
    "import matplotlib.pyplot as plt\n",
    "\n",
    "acc = history.history['acc']\n",
    "val_acc = history.history['val_acc']\n",
    "loss = history.history['loss']\n",
    "val_loss = history.history['val_loss']\n",
    "\n",
    "epochs = range(1, len(acc) + 1)\n",
    "\n",
    "plt.plot(epochs, acc, 'bo', label='Training acc')\n",
    "plt.plot(epochs, val_acc, 'b', label='Validation acc')\n",
    "plt.title('Training and validation accuracy')\n",
    "plt.legend()\n",
    "\n",
    "plt.figure()\n",
    "\n",
    "plt.plot(epochs, loss, 'bo', label='Training loss')\n",
    "plt.plot(epochs, val_loss, 'b', label='Validation loss')\n",
    "plt.title('Training and validation loss')\n",
    "plt.legend()\n",
    "\n",
    "plt.show()"
   ]
  },
  {
   "cell_type": "markdown",
   "metadata": {},
   "source": [
    "从上图可以看出，我们的验证精度都能达到95%以上，后面接近100%，比我们自己小样本训练的效果好多了。但从途中可以看出，虽然dropout比率相当大，但模型几乎从一开始就过拟合了。因为本方法没有使用数据增强，而数据增强对放置小型图像数据集的过拟合非常重要。"
   ]
  },
  {
   "cell_type": "markdown",
   "metadata": {},
   "source": [
    "下面使用数据增强的特征提取。\n",
    "**特别注意**：\n",
    "本方法计算代价很高，只在有GPU的情况下才能尝试运行。它在CPU上是绝对难以运行的。如果你无法在GPU上运行代码，那么就采用第一种方法。"
   ]
  },
  {
   "cell_type": "code",
   "execution_count": 7,
   "metadata": {},
   "outputs": [],
   "source": [
    "# 使用数据增强的特征提取\n",
    "from tensorflow.keras import models\n",
    "from tensorflow.keras import layers\n",
    "\n",
    "model = models.Sequential()\n",
    "model.add(conv_base)\n",
    "model.add(layers.Flatten())\n",
    "model.add(layers.Dense(256, activation='relu'))\n",
    "model.add(layers.Dense(1, activation='sigmoid'))"
   ]
  },
  {
   "cell_type": "code",
   "execution_count": 8,
   "metadata": {},
   "outputs": [
    {
     "name": "stdout",
     "output_type": "stream",
     "text": [
      "Model: \"sequential_1\"\n",
      "_________________________________________________________________\n",
      " Layer (type)                Output Shape              Param #   \n",
      "=================================================================\n",
      " vgg16 (Functional)          (None, 4, 4, 512)         14714688  \n",
      "                                                                 \n",
      " flatten (Flatten)           (None, 8192)              0         \n",
      "                                                                 \n",
      " dense_2 (Dense)             (None, 256)               2097408   \n",
      "                                                                 \n",
      " dense_3 (Dense)             (None, 1)                 257       \n",
      "                                                                 \n",
      "=================================================================\n",
      "Total params: 16,812,353\n",
      "Trainable params: 16,812,353\n",
      "Non-trainable params: 0\n",
      "_________________________________________________________________\n"
     ]
    }
   ],
   "source": [
    "model.summary()"
   ]
  },
  {
   "cell_type": "markdown",
   "metadata": {},
   "source": [
    "可以看到，在VGG16的卷积基上有1471万个参数，后面还有209万个参数，如果电脑计算，将会是非常非常恐怖的。\n",
    "\n",
    "在训练和编译模型之前，一定要冻结卷积基。如果不这么做，那么卷积基之前学到的表示将会在训练过程中被修改。"
   ]
  },
  {
   "cell_type": "code",
   "execution_count": 9,
   "metadata": {},
   "outputs": [],
   "source": [
    "conv_base.trainable = False"
   ]
  },
  {
   "cell_type": "markdown",
   "metadata": {},
   "source": [
    "然后就如之前一样开始进行训练，和上节课的代码一样。因为不能在cpu上跑，我就没试验了。\n",
    "\n",
    "## 微调模型（fine-tuning）\n",
    "\n",
    "另一种广泛使用模型复用发发是模型微调，与特征提取互为补充。对用于特征提取的冻结模型基，微调是将顶部的几层解冻。\n",
    "\n",
    "![img](images/005-006.png)\n",
    "\n",
    "冻结VGG16的卷积基是为了能够在上面训练一个随机初始化的分类器。只有上面的分类器已经训练好了，才能微调卷积基的顶部几层。如果分类器没有训练好，那么训练期间通过网络传播的误差信号会特别大。所以步骤如下：\n",
    "1. 在训练好的基网络商家自动以网络\n",
    "2. 冻结基网络\n",
    "3. 训练添加的部分\n",
    "4. 解冻基网络的一些层\n",
    "5. 联合训练解冻的这些层和添加的部分\n",
    "\n",
    "为什么不微调整个卷积基？\n",
    "1. 卷积基中更底层更加通用的可复用特征，而顶部的是更专业化的特征。微调这些专业话的特征更有用。微调更底部的层，回报会更少\n",
    "2. 训练的参数越多，过拟合的风险越大"
   ]
  },
  {
   "cell_type": "code",
   "execution_count": 10,
   "metadata": {},
   "outputs": [],
   "source": [
    "conv_base.trainable = True\n",
    "\n",
    "set_trainable = False\n",
    "for layer in conv_base.layers:\n",
    "    if layer.name == 'block5_conv1':\n",
    "        set_trainable = True\n",
    "    if set_trainable:\n",
    "        layer.trainable = True\n",
    "    else:\n",
    "        layer.trainable = False"
   ]
  },
  {
   "cell_type": "code",
   "execution_count": 12,
   "metadata": {},
   "outputs": [
    {
     "name": "stdout",
     "output_type": "stream",
     "text": [
      "Found 2000 images belonging to 2 classes.\n",
      "Found 1000 images belonging to 2 classes.\n",
      "Epoch 1/100\n",
      "30/30 [==============================] - 58s 2s/step - loss: 0.6110 - acc: 0.6740 - val_loss: 0.4838 - val_acc: 0.8103\n",
      "Epoch 2/100\n",
      "30/30 [==============================] - 63s 2s/step - loss: 0.4958 - acc: 0.7945 - val_loss: 0.3389 - val_acc: 0.8839\n",
      "Epoch 3/100\n",
      "30/30 [==============================] - 59s 2s/step - loss: 0.4244 - acc: 0.8167 - val_loss: 0.3345 - val_acc: 0.8661\n",
      "Epoch 4/100\n",
      "30/30 [==============================] - 58s 2s/step - loss: 0.3576 - acc: 0.8475 - val_loss: 0.2627 - val_acc: 0.8906\n",
      "Epoch 5/100\n",
      "30/30 [==============================] - 57s 2s/step - loss: 0.3473 - acc: 0.8400 - val_loss: 0.2454 - val_acc: 0.8996\n",
      "Epoch 6/100\n",
      "30/30 [==============================] - 60s 2s/step - loss: 0.3263 - acc: 0.8615 - val_loss: 0.2401 - val_acc: 0.9040\n",
      "Epoch 7/100\n",
      "30/30 [==============================] - 58s 2s/step - loss: 0.3141 - acc: 0.8782 - val_loss: 0.2221 - val_acc: 0.9062\n",
      "Epoch 8/100\n",
      "30/30 [==============================] - 60s 2s/step - loss: 0.3040 - acc: 0.8667 - val_loss: 0.2387 - val_acc: 0.8929\n",
      "Epoch 9/100\n",
      "30/30 [==============================] - 59s 2s/step - loss: 0.2963 - acc: 0.8740 - val_loss: 0.1968 - val_acc: 0.9263\n",
      "Epoch 10/100\n",
      "30/30 [==============================] - 58s 2s/step - loss: 0.2657 - acc: 0.8771 - val_loss: 0.2083 - val_acc: 0.9129\n",
      "Epoch 11/100\n",
      "30/30 [==============================] - 57s 2s/step - loss: 0.2743 - acc: 0.8898 - val_loss: 0.2117 - val_acc: 0.9174\n",
      "Epoch 12/100\n",
      "30/30 [==============================] - 65s 2s/step - loss: 0.2541 - acc: 0.9004 - val_loss: 0.2411 - val_acc: 0.9018\n",
      "Epoch 13/100\n",
      "30/30 [==============================] - 63s 2s/step - loss: 0.2663 - acc: 0.8969 - val_loss: 0.2026 - val_acc: 0.9062\n",
      "Epoch 14/100\n",
      "30/30 [==============================] - 64s 2s/step - loss: 0.2261 - acc: 0.9083 - val_loss: 0.2170 - val_acc: 0.9196\n",
      "Epoch 15/100\n",
      "30/30 [==============================] - 63s 2s/step - loss: 0.2356 - acc: 0.8962 - val_loss: 0.1550 - val_acc: 0.9397\n",
      "Epoch 16/100\n",
      "30/30 [==============================] - 63s 2s/step - loss: 0.2163 - acc: 0.9062 - val_loss: 0.1690 - val_acc: 0.9241\n",
      "Epoch 17/100\n",
      "30/30 [==============================] - 64s 2s/step - loss: 0.2101 - acc: 0.9146 - val_loss: 0.1795 - val_acc: 0.9219\n",
      "Epoch 18/100\n",
      "30/30 [==============================] - 63s 2s/step - loss: 0.1996 - acc: 0.9187 - val_loss: 0.1751 - val_acc: 0.9308\n",
      "Epoch 19/100\n",
      "30/30 [==============================] - 63s 2s/step - loss: 0.2367 - acc: 0.9031 - val_loss: 0.1919 - val_acc: 0.9152\n",
      "Epoch 20/100\n",
      "30/30 [==============================] - 62s 2s/step - loss: 0.2238 - acc: 0.9089 - val_loss: 0.1782 - val_acc: 0.9286\n",
      "Epoch 21/100\n",
      "30/30 [==============================] - 64s 2s/step - loss: 0.2132 - acc: 0.9115 - val_loss: 0.1874 - val_acc: 0.9308\n",
      "Epoch 22/100\n",
      "30/30 [==============================] - 63s 2s/step - loss: 0.1993 - acc: 0.9195 - val_loss: 0.1632 - val_acc: 0.9397\n",
      "Epoch 23/100\n",
      "30/30 [==============================] - 64s 2s/step - loss: 0.2019 - acc: 0.9135 - val_loss: 0.1667 - val_acc: 0.9375\n",
      "Epoch 24/100\n",
      "30/30 [==============================] - 63s 2s/step - loss: 0.1928 - acc: 0.9248 - val_loss: 0.2048 - val_acc: 0.9241\n",
      "Epoch 25/100\n",
      "30/30 [==============================] - 62s 2s/step - loss: 0.1899 - acc: 0.9219 - val_loss: 0.2458 - val_acc: 0.8973\n",
      "Epoch 26/100\n",
      "30/30 [==============================] - 57s 2s/step - loss: 0.1827 - acc: 0.9323 - val_loss: 0.1571 - val_acc: 0.9330\n",
      "Epoch 27/100\n",
      "30/30 [==============================] - 56s 2s/step - loss: 0.1944 - acc: 0.9206 - val_loss: 0.1577 - val_acc: 0.9330\n",
      "Epoch 28/100\n",
      "30/30 [==============================] - 57s 2s/step - loss: 0.1827 - acc: 0.9301 - val_loss: 0.1901 - val_acc: 0.9308\n",
      "Epoch 29/100\n",
      "30/30 [==============================] - 60s 2s/step - loss: 0.1745 - acc: 0.9260 - val_loss: 0.1778 - val_acc: 0.9241\n",
      "Epoch 30/100\n",
      "30/30 [==============================] - 58s 2s/step - loss: 0.1771 - acc: 0.9271 - val_loss: 0.1551 - val_acc: 0.9353\n",
      "Epoch 31/100\n",
      "30/30 [==============================] - 57s 2s/step - loss: 0.1620 - acc: 0.9301 - val_loss: 0.1888 - val_acc: 0.9152\n",
      "Epoch 32/100\n",
      "30/30 [==============================] - 58s 2s/step - loss: 0.1785 - acc: 0.9323 - val_loss: 0.1385 - val_acc: 0.9531\n",
      "Epoch 33/100\n",
      "30/30 [==============================] - 58s 2s/step - loss: 0.1835 - acc: 0.9302 - val_loss: 0.2004 - val_acc: 0.9062\n",
      "Epoch 34/100\n",
      "30/30 [==============================] - 57s 2s/step - loss: 0.1882 - acc: 0.9227 - val_loss: 0.1423 - val_acc: 0.9353\n",
      "Epoch 35/100\n",
      "30/30 [==============================] - 57s 2s/step - loss: 0.1865 - acc: 0.9206 - val_loss: 0.1335 - val_acc: 0.9509\n",
      "Epoch 36/100\n",
      "30/30 [==============================] - 58s 2s/step - loss: 0.1870 - acc: 0.9302 - val_loss: 0.1242 - val_acc: 0.9464\n",
      "Epoch 37/100\n",
      "30/30 [==============================] - 58s 2s/step - loss: 0.1476 - acc: 0.9458 - val_loss: 0.1641 - val_acc: 0.9330\n",
      "Epoch 38/100\n",
      "30/30 [==============================] - 58s 2s/step - loss: 0.1472 - acc: 0.9396 - val_loss: 0.1600 - val_acc: 0.9330\n",
      "Epoch 39/100\n",
      "30/30 [==============================] - 57s 2s/step - loss: 0.1679 - acc: 0.9343 - val_loss: 0.1664 - val_acc: 0.9308\n",
      "Epoch 40/100\n",
      "30/30 [==============================] - 57s 2s/step - loss: 0.1396 - acc: 0.9449 - val_loss: 0.1187 - val_acc: 0.9442\n",
      "Epoch 41/100\n",
      "30/30 [==============================] - 58s 2s/step - loss: 0.1532 - acc: 0.9365 - val_loss: 0.1985 - val_acc: 0.9174\n",
      "Epoch 42/100\n",
      "30/30 [==============================] - 59s 2s/step - loss: 0.1591 - acc: 0.9396 - val_loss: 0.1849 - val_acc: 0.9330\n",
      "Epoch 43/100\n",
      "30/30 [==============================] - 59s 2s/step - loss: 0.1668 - acc: 0.9323 - val_loss: 0.1623 - val_acc: 0.9375\n",
      "Epoch 44/100\n",
      "30/30 [==============================] - 58s 2s/step - loss: 0.1485 - acc: 0.9396 - val_loss: 0.1781 - val_acc: 0.9353\n",
      "Epoch 45/100\n",
      "30/30 [==============================] - 59s 2s/step - loss: 0.1591 - acc: 0.9302 - val_loss: 0.1642 - val_acc: 0.9330\n",
      "Epoch 46/100\n",
      "30/30 [==============================] - 61s 2s/step - loss: 0.1552 - acc: 0.9354 - val_loss: 0.1323 - val_acc: 0.9487\n",
      "Epoch 47/100\n",
      "30/30 [==============================] - 59s 2s/step - loss: 0.1157 - acc: 0.9544 - val_loss: 0.1114 - val_acc: 0.9420\n",
      "Epoch 48/100\n",
      "30/30 [==============================] - 58s 2s/step - loss: 0.1367 - acc: 0.9417 - val_loss: 0.1926 - val_acc: 0.9219\n",
      "Epoch 49/100\n",
      "30/30 [==============================] - 59s 2s/step - loss: 0.1233 - acc: 0.9521 - val_loss: 0.1305 - val_acc: 0.9397\n",
      "Epoch 50/100\n",
      "30/30 [==============================] - 59s 2s/step - loss: 0.1365 - acc: 0.9427 - val_loss: 0.1364 - val_acc: 0.9464\n",
      "Epoch 51/100\n",
      "30/30 [==============================] - 59s 2s/step - loss: 0.1351 - acc: 0.9502 - val_loss: 0.1226 - val_acc: 0.9487\n",
      "Epoch 52/100\n",
      "30/30 [==============================] - 60s 2s/step - loss: 0.1664 - acc: 0.9302 - val_loss: 0.1976 - val_acc: 0.9085\n",
      "Epoch 53/100\n",
      "30/30 [==============================] - 61s 2s/step - loss: 0.1250 - acc: 0.9500 - val_loss: 0.2320 - val_acc: 0.9107\n",
      "Epoch 54/100\n",
      "30/30 [==============================] - 59s 2s/step - loss: 0.1373 - acc: 0.9458 - val_loss: 0.1780 - val_acc: 0.9330\n",
      "Epoch 55/100\n",
      "30/30 [==============================] - 59s 2s/step - loss: 0.1182 - acc: 0.9542 - val_loss: 0.2399 - val_acc: 0.9196\n",
      "Epoch 56/100\n",
      "30/30 [==============================] - 60s 2s/step - loss: 0.1295 - acc: 0.9542 - val_loss: 0.1794 - val_acc: 0.9375\n",
      "Epoch 57/100\n",
      "30/30 [==============================] - 66s 2s/step - loss: 0.1246 - acc: 0.9566 - val_loss: 0.1839 - val_acc: 0.9353\n",
      "Epoch 58/100\n",
      "30/30 [==============================] - 71s 2s/step - loss: 0.1163 - acc: 0.9555 - val_loss: 0.1491 - val_acc: 0.9442\n",
      "Epoch 59/100\n",
      "30/30 [==============================] - 68s 2s/step - loss: 0.1107 - acc: 0.9534 - val_loss: 0.2025 - val_acc: 0.9353\n",
      "Epoch 60/100\n",
      "30/30 [==============================] - 65s 2s/step - loss: 0.1037 - acc: 0.9640 - val_loss: 0.2463 - val_acc: 0.9129\n",
      "Epoch 61/100\n",
      "30/30 [==============================] - 59s 2s/step - loss: 0.1053 - acc: 0.9672 - val_loss: 0.2254 - val_acc: 0.9018\n",
      "Epoch 62/100\n",
      "30/30 [==============================] - 64s 2s/step - loss: 0.1079 - acc: 0.9563 - val_loss: 0.1771 - val_acc: 0.9219\n",
      "Epoch 63/100\n",
      "30/30 [==============================] - 63s 2s/step - loss: 0.0896 - acc: 0.9672 - val_loss: 0.1496 - val_acc: 0.9308\n",
      "Epoch 64/100\n",
      "30/30 [==============================] - 64s 2s/step - loss: 0.1007 - acc: 0.9615 - val_loss: 0.1455 - val_acc: 0.9442\n",
      "Epoch 65/100\n",
      "30/30 [==============================] - 62s 2s/step - loss: 0.1106 - acc: 0.9481 - val_loss: 0.1698 - val_acc: 0.9308\n",
      "Epoch 66/100\n",
      "30/30 [==============================] - 65s 2s/step - loss: 0.0899 - acc: 0.9656 - val_loss: 0.1383 - val_acc: 0.9464\n",
      "Epoch 67/100\n",
      "30/30 [==============================] - 68s 2s/step - loss: 0.1023 - acc: 0.9594 - val_loss: 0.1964 - val_acc: 0.9375\n",
      "Epoch 68/100\n",
      "30/30 [==============================] - 60s 2s/step - loss: 0.0996 - acc: 0.9583 - val_loss: 0.1809 - val_acc: 0.9353\n",
      "Epoch 69/100\n",
      "30/30 [==============================] - 60s 2s/step - loss: 0.0938 - acc: 0.9650 - val_loss: 0.3291 - val_acc: 0.9062\n",
      "Epoch 70/100\n",
      "30/30 [==============================] - 65s 2s/step - loss: 0.0966 - acc: 0.9625 - val_loss: 0.2572 - val_acc: 0.9174\n",
      "Epoch 71/100\n",
      "30/30 [==============================] - 64s 2s/step - loss: 0.0996 - acc: 0.9583 - val_loss: 0.1178 - val_acc: 0.9531\n",
      "Epoch 72/100\n",
      "30/30 [==============================] - 66s 2s/step - loss: 0.1004 - acc: 0.9667 - val_loss: 0.1670 - val_acc: 0.9308\n",
      "Epoch 73/100\n",
      "30/30 [==============================] - 65s 2s/step - loss: 0.0993 - acc: 0.9646 - val_loss: 0.2110 - val_acc: 0.9174\n",
      "Epoch 74/100\n",
      "30/30 [==============================] - 65s 2s/step - loss: 0.0983 - acc: 0.9587 - val_loss: 0.1406 - val_acc: 0.9531\n",
      "Epoch 75/100\n",
      "30/30 [==============================] - 67s 2s/step - loss: 0.0716 - acc: 0.9740 - val_loss: 0.1964 - val_acc: 0.9263\n",
      "Epoch 76/100\n",
      "30/30 [==============================] - 67s 2s/step - loss: 0.0925 - acc: 0.9640 - val_loss: 0.1814 - val_acc: 0.9330\n",
      "Epoch 77/100\n",
      "30/30 [==============================] - 62s 2s/step - loss: 0.0927 - acc: 0.9650 - val_loss: 0.1581 - val_acc: 0.9286\n",
      "Epoch 78/100\n",
      "30/30 [==============================] - 62s 2s/step - loss: 0.0720 - acc: 0.9760 - val_loss: 0.1501 - val_acc: 0.9353\n",
      "Epoch 79/100\n",
      "30/30 [==============================] - 60s 2s/step - loss: 0.0974 - acc: 0.9619 - val_loss: 0.2135 - val_acc: 0.9286\n",
      "Epoch 80/100\n",
      "30/30 [==============================] - 60s 2s/step - loss: 0.0775 - acc: 0.9682 - val_loss: 0.1536 - val_acc: 0.9442\n",
      "Epoch 81/100\n",
      "30/30 [==============================] - 61s 2s/step - loss: 0.0819 - acc: 0.9635 - val_loss: 0.1881 - val_acc: 0.9196\n",
      "Epoch 82/100\n",
      "30/30 [==============================] - 66s 2s/step - loss: 0.0852 - acc: 0.9698 - val_loss: 0.1803 - val_acc: 0.9353\n",
      "Epoch 83/100\n",
      "30/30 [==============================] - 61s 2s/step - loss: 0.0873 - acc: 0.9646 - val_loss: 0.1921 - val_acc: 0.9241\n",
      "Epoch 84/100\n",
      "30/30 [==============================] - 69s 2s/step - loss: 0.0811 - acc: 0.9667 - val_loss: 0.1891 - val_acc: 0.9241\n",
      "Epoch 85/100\n",
      "30/30 [==============================] - 70s 2s/step - loss: 0.0808 - acc: 0.9688 - val_loss: 0.1102 - val_acc: 0.9509\n",
      "Epoch 86/100\n",
      "30/30 [==============================] - 78s 3s/step - loss: 0.0663 - acc: 0.9740 - val_loss: 0.1864 - val_acc: 0.9330\n",
      "Epoch 87/100\n",
      "30/30 [==============================] - 74s 2s/step - loss: 0.0894 - acc: 0.9619 - val_loss: 0.1610 - val_acc: 0.9308\n",
      "Epoch 88/100\n",
      "30/30 [==============================] - 72s 2s/step - loss: 0.0764 - acc: 0.9698 - val_loss: 0.1740 - val_acc: 0.9353\n",
      "Epoch 89/100\n",
      "30/30 [==============================] - 71s 2s/step - loss: 0.0700 - acc: 0.9746 - val_loss: 0.1449 - val_acc: 0.9375\n",
      "Epoch 90/100\n",
      "30/30 [==============================] - 75s 3s/step - loss: 0.0821 - acc: 0.9708 - val_loss: 0.2451 - val_acc: 0.9219\n",
      "Epoch 91/100\n",
      "30/30 [==============================] - 70s 2s/step - loss: 0.0615 - acc: 0.9809 - val_loss: 0.1983 - val_acc: 0.9219\n",
      "Epoch 92/100\n",
      "30/30 [==============================] - 66s 2s/step - loss: 0.0612 - acc: 0.9729 - val_loss: 0.1349 - val_acc: 0.9442\n",
      "Epoch 93/100\n",
      "30/30 [==============================] - 59s 2s/step - loss: 0.0810 - acc: 0.9682 - val_loss: 0.1374 - val_acc: 0.9464\n",
      "Epoch 94/100\n",
      "30/30 [==============================] - 64s 2s/step - loss: 0.0806 - acc: 0.9725 - val_loss: 0.1921 - val_acc: 0.9330\n",
      "Epoch 95/100\n",
      "30/30 [==============================] - 70s 2s/step - loss: 0.0825 - acc: 0.9693 - val_loss: 0.2041 - val_acc: 0.9219\n",
      "Epoch 96/100\n",
      "30/30 [==============================] - 69s 2s/step - loss: 0.0688 - acc: 0.9771 - val_loss: 0.1473 - val_acc: 0.9375\n",
      "Epoch 97/100\n",
      "30/30 [==============================] - 59s 2s/step - loss: 0.0718 - acc: 0.9799 - val_loss: 0.1464 - val_acc: 0.9330\n",
      "Epoch 98/100\n",
      "30/30 [==============================] - 59s 2s/step - loss: 0.0504 - acc: 0.9792 - val_loss: 0.1552 - val_acc: 0.9464\n",
      "Epoch 99/100\n",
      "30/30 [==============================] - 62s 2s/step - loss: 0.0780 - acc: 0.9729 - val_loss: 0.1434 - val_acc: 0.9464\n",
      "Epoch 100/100\n",
      "30/30 [==============================] - 63s 2s/step - loss: 0.0753 - acc: 0.9688 - val_loss: 0.2092 - val_acc: 0.9330\n"
     ]
    }
   ],
   "source": [
    "# 微调模型（fine-tuning）\n",
    "train_datagen = ImageDataGenerator(\n",
    "    rescale=1./255,\n",
    "    rotation_range=40,\n",
    "    width_shift_range=0.2,\n",
    "    height_shift_range=0.2,\n",
    "    shear_range=0.2,\n",
    "    zoom_range=0.2,\n",
    "    horizontal_flip=True\n",
    ")\n",
    "\n",
    "test_datagen = ImageDataGenerator(rescale=1./255)  # 特别注意，不能增强验证数据集\n",
    "\n",
    "train_generator = train_datagen.flow_from_directory(\n",
    "        train_dir,\n",
    "        target_size=(150, 150),\n",
    "        batch_size=32,\n",
    "        class_mode='binary')\n",
    "\n",
    "validation_generator = test_datagen.flow_from_directory(\n",
    "        validation_dir,\n",
    "        target_size=(150, 150),\n",
    "        batch_size=32,\n",
    "        class_mode='binary')\n",
    "\n",
    "\n",
    "model.compile(\n",
    "    optimizer=optimizers.RMSprop(lr=1e-5),\n",
    "    loss='binary_crossentropy',\n",
    "    metrics=['acc']\n",
    ")\n",
    "\n",
    "history = model.fit(\n",
    "    train_generator,\n",
    "    steps_per_epoch=30,\n",
    "    epochs=100,\n",
    "    validation_data=validation_generator,\n",
    "    validation_steps=14\n",
    ")"
   ]
  },
  {
   "cell_type": "code",
   "execution_count": 14,
   "metadata": {},
   "outputs": [],
   "source": [
    "model.save('cats_and_dogs_small_3.h5')"
   ]
  },
  {
   "cell_type": "markdown",
   "metadata": {},
   "source": [
    "注意，时间特别长，我的机一共跑了107分钟。"
   ]
  },
  {
   "cell_type": "code",
   "execution_count": 13,
   "metadata": {},
   "outputs": [
    {
     "data": {
      "image/png": "[encoded data removed]",
      "text/plain": [
       "<Figure size 432x288 with 1 Axes>"
      ]
     },
     "metadata": {
      "needs_background": "light"
     },
     "output_type": "display_data"
    },
    {
     "data": {
      "image/png": "[encoded data removed]",
      "text/plain": [
       "<Figure size 432x288 with 1 Axes>"
      ]
     },
     "metadata": {
      "needs_background": "light"
     },
     "output_type": "display_data"
    }
   ],
   "source": [
    "import matplotlib.pyplot as plt\n",
    "\n",
    "acc = history.history['acc']\n",
    "val_acc = history.history['val_acc']\n",
    "loss = history.history['loss']\n",
    "val_loss = history.history['val_loss']\n",
    "\n",
    "epochs = range(1, len(acc) + 1)\n",
    "\n",
    "plt.plot(epochs, acc, 'bo', label='Training acc')\n",
    "plt.plot(epochs, val_acc, 'b', label='Validation acc')\n",
    "plt.title('Training and validation accuracy')\n",
    "plt.legend()\n",
    "\n",
    "plt.figure()\n",
    "\n",
    "plt.plot(epochs, loss, 'bo', label='Training loss')\n",
    "plt.plot(epochs, val_loss, 'b', label='Validation loss')\n",
    "plt.title('Training and validation loss')\n",
    "plt.legend()\n",
    "\n",
    "plt.show()"
   ]
  },
  {
   "cell_type": "markdown",
   "metadata": {},
   "source": [
    "上面曲线比较波折，我们让曲线平滑些"
   ]
  },
  {
   "cell_type": "code",
   "execution_count": 15,
   "metadata": {},
   "outputs": [
    {
     "data": {
      "image/png": "[encoded data removed]",
      "text/plain": [
       "<Figure size 432x288 with 1 Axes>"
      ]
     },
     "metadata": {
      "needs_background": "light"
     },
     "output_type": "display_data"
    },
    {
     "data": {
      "image/png": "[encoded data removed]",
      "text/plain": [
       "<Figure size 432x288 with 1 Axes>"
      ]
     },
     "metadata": {
      "needs_background": "light"
     },
     "output_type": "display_data"
    }
   ],
   "source": [
    "def smooth_curve(points,factor=0.8):\n",
    "    smoothed_points = []\n",
    "    for point in points:\n",
    "        if smoothed_points:\n",
    "            previous = smoothed_points[-1]\n",
    "            smoothed_points.append(previous * factor + point * (1 - factor))\n",
    "        else:\n",
    "            smoothed_points.append(point)\n",
    "    return smoothed_points\n",
    "plt.plot(epochs, smooth_curve(acc), 'bo', label='Smoothed training acc')\n",
    "plt.plot(epochs, smooth_curve(val_acc), 'b', label='Smoothed validation acc')\n",
    "plt.title('Training and validation accuracy')\n",
    "plt.legend()\n",
    "plt.figure()\n",
    "\n",
    "plt.plot(epochs, smooth_curve(loss), 'bo', label='Smoothed training loss')\n",
    "plt.plot(epochs, smooth_curve(val_loss), 'b', label='Smoothed validation loss')\n",
    "plt.title('Training and validation loss')\n",
    "plt.legend()\n",
    "\n",
    "plt.show()\n"
   ]
  },
  {
   "cell_type": "markdown",
   "metadata": {},
   "source": [
    "- 卷积神经网络是用于计算机视觉任务的最佳学习模型。及时在非常小的数据集上也可以从头开始训练一个卷积神经网络，而且结果还不错。\n",
    "- 在小型数据集上的主要问题是过拟合，在处理图像数据时，数据增强是一种降低过拟合的强大方法。\n",
    "- 利用特征提取，可以很容易讲现有卷积神经网络复用与新的数据集\n",
    "- 作为特征提取的补充，你还可以微调，进一步提高模型性能。"
   ]
  }
 ],
 "metadata": {
  "interpreter": {
   "hash": "aee8b7b246df8f9039afb4144a1f6fd8d2ca17a180786b69acc140d282b71a49"
  },
  "kernelspec": {
   "display_name": "Python 3.9.7 64-bit",
   "language": "python",
   "name": "python3"
  },
  "language_info": {
   "codemirror_mode": {
    "name": "ipython",
    "version": 3
   },
   "file_extension": ".py",
   "mimetype": "text/x-python",
   "name": "python",
   "nbconvert_exporter": "python",
   "pygments_lexer": "ipython3",
   "version": "3.9.7"
  },
  "orig_nbformat": 4
 },
 "nbformat": 4,
 "nbformat_minor": 2
}
