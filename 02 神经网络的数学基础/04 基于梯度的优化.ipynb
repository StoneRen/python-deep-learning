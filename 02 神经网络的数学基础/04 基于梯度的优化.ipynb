{
 "cells": [
  {
   "cell_type": "markdown",
   "id": "93dcac23",
   "metadata": {},
   "source": [
    "```python\n",
    "output = relu(dot(w,input)+b)\n",
    "```\n",
    "`w`和`b`都是张量，成为该层的权重（weight）或可训练参数 。`b`是bias\n",
    "一开始随机初始化，下一步根据反馈信号组件调节这些权重。这个过程就是机器学习中的`学习`或`训练`\n",
    "\n",
    "![img](images/002-004.png)\n",
    "## SGD\n",
    "\n",
    "![img](images/002-005.png)\n",
    "\n",
    "> 使用动量方法可以避免这样的问题，这一方法的灵感来源于物理学。将优化过程想象成一个小球从损失函数曲线上滚下来。如果小球的动量足够大，那么它不会卡在峡谷里，最终会到达全局最小点。动量方法的实现过程是每一步都移动小球，不仅要考虑当前的斜率值（当前的加速度），还要考虑当前的速度（来自于之前的加速度）。这在实践中的是指，更新参数w不仅要考虑当前的梯度值，还要考虑上一次的参数更新,代码实现如下：\n"
   ]
  },
  {
   "cell_type": "markdown",
   "id": "b124c5f6",
   "metadata": {},
   "source": [
    "```python\n",
    "past_velocity = 0\n",
    "momentum = 0.1\n",
    "while loss > 0.01:\n",
    "  w,loss,gradient = get_current_paramenters()\n",
    "  velocity = past_velocity * velocity - learning_rate * gradient\n",
    "  past_velocity = velocity\n",
    "  update_parameter(w)\n",
    "```"
   ]
  },
  {
   "cell_type": "code",
   "execution_count": 14,
   "id": "d7394dbd",
   "metadata": {},
   "outputs": [
    {
     "data": {
      "image/png": "[encoded data removed]",
      "text/plain": [
       "<Figure size 432x288 with 1 Axes>"
      ]
     },
     "metadata": {
      "needs_background": "light"
     },
     "output_type": "display_data"
    }
   ],
   "source": [
    "import numpy as np\n",
    "import matplotlib.pyplot as plt\n",
    "\n",
    "def fn(x):\n",
    "  fn = x ** 2\n",
    "  return fn\n",
    "\n",
    "# 用差分法近似求导\n",
    "def derivate(x):\n",
    "  h = 0.01\n",
    "  derivate = (fn(x+h)-fn(x-h))/(2*h)\n",
    "  return derivate\n",
    "\n",
    "# 学习速率，可以调整看一下效果\n",
    "eta = 0.08\n",
    "num_iterate = 1000\n",
    "\n",
    "# 样本起始计算量\n",
    "x = 4\n",
    "x_value = [x]\n",
    "fn_value = [fn(x)]\n",
    "\n",
    "for i in range(num_iterate):\n",
    "  x -= eta * (derivate(x))\n",
    "  x_value.append(x)\n",
    "  fn_value.append(fn(x))\n",
    "\n",
    "\n",
    "# 进行画图\n",
    "y = np.max(np.abs(x_value))\n",
    "z = np.linspace(-y,y,num_iterate)\n",
    "\n",
    "plt.plot(x_value,fn_value,\"bo\")\n",
    "plt.plot(z,fn(z),\"r\")\n",
    "plt.xlabel(\"x\")\n",
    "plt.ylabel(\"Value\")\n",
    "plt.show()"
   ]
  }
 ],
 "metadata": {
  "kernelspec": {
   "display_name": "Python 3 (ipykernel)",
   "language": "python",
   "name": "python3"
  },
  "language_info": {
   "codemirror_mode": {
    "name": "ipython",
    "version": 3
   },
   "file_extension": ".py",
   "mimetype": "text/x-python",
   "name": "python",
   "nbconvert_exporter": "python",
   "pygments_lexer": "ipython3",
   "version": "3.9.7"
  }
 },
 "nbformat": 4,
 "nbformat_minor": 5
}
