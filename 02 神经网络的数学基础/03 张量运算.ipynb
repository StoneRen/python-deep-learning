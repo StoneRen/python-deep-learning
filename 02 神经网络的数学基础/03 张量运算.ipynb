{
 "cells": [
  {
   "cell_type": "markdown",
   "id": "fbc221e4",
   "metadata": {},
   "source": [
    "## 逐元素运算\n",
    "relu运算和加法运算都是逐元素(element-wise)的运算，该运算独立地应用于张量中的每个元素。这样就非常适合大规模并行实现。"
   ]
  },
  {
   "cell_type": "code",
   "execution_count": 5,
   "id": "0f44ff3c",
   "metadata": {},
   "outputs": [
    {
     "name": "stdout",
     "output_type": "stream",
     "text": [
      "x:\n",
      " [[0 3 8 1]\n",
      " [7 5 0 4]]\n",
      "x.shape: (2, 4)\n",
      "y:\n",
      " [[7 7 9 0]\n",
      " [8 5 4 8]]\n",
      "y.shape: (2, 4)\n"
     ]
    }
   ],
   "source": [
    "import numpy as np\n",
    "\n",
    "x = np.random.randint(10,size=(2,4))\n",
    "print(\"x:\\n\",x)\n",
    "print(\"x.shape:\",x.shape)\n",
    "\n",
    "y = np.random.randint(10,size=(2,4))\n",
    "print(\"y:\\n\",y)\n",
    "print(\"y.shape:\",y.shape)"
   ]
  },
  {
   "cell_type": "code",
   "execution_count": 4,
   "id": "e1dfd0b5",
   "metadata": {},
   "outputs": [
    {
     "name": "stdout",
     "output_type": "stream",
     "text": [
      "sum:\n",
      " [[ 4  8  8 13]\n",
      " [ 7  3  7 14]]\n"
     ]
    }
   ],
   "source": [
    "sum = x + y\n",
    "print(\"sum:\\n\",sum)"
   ]
  },
  {
   "cell_type": "markdown",
   "id": "2bbab985",
   "metadata": {},
   "source": [
    "## 广播\n",
    "如果2个不同形状的张量相加，较小的张量会被`广播`,以匹配较大张量的形状。\n",
    "\n",
    "广播包含2步骤：\n",
    "1. 较小的张量添加轴(叫做广播轴),使其ndim与较大的张量相同\n",
    "2. 将较小的张量沿着新轴重复，使其形状与较大的张量相同"
   ]
  },
  {
   "cell_type": "code",
   "execution_count": 8,
   "id": "08e4de6e",
   "metadata": {},
   "outputs": [
    {
     "name": "stdout",
     "output_type": "stream",
     "text": [
      "x:\n",
      " [[3 1]\n",
      " [8 3]]\n",
      "y:\n",
      " [2]\n",
      "sum:\n",
      " [[ 5  3]\n",
      " [10  5]]\n"
     ]
    }
   ],
   "source": [
    "x = np.random.randint(10,size=(2,2))\n",
    "y = np.random.randint(10,size=(1))\n",
    "\n",
    "print(\"x:\\n\",x)\n",
    "print(\"y:\\n\",y)\n",
    "\n",
    "sum = x + y\n",
    "print(\"sum:\\n\",sum)"
   ]
  },
  {
   "cell_type": "markdown",
   "id": "aeb9f14b",
   "metadata": {},
   "source": [
    "上面的代码就实现了`y`的广播。\n",
    "\n",
    "注意：\n",
    "1. 在真正实现过程中，不会创建新的张量，因为这样做非常低效\n",
    "2. 重复的操作完全是虚拟的，只出现算法中，不会在内存中发生。"
   ]
  },
  {
   "cell_type": "markdown",
   "id": "2d55814a",
   "metadata": {},
   "source": [
    "### 张量点积 (tensor product)\n",
    "不要与逐元素的乘积弄混，最常见也是最有用的张量运算。\n",
    "\n",
    "- `*`，逐元素的乘积运算\n",
    "- `dot`,点积运算"
   ]
  },
  {
   "cell_type": "code",
   "execution_count": 9,
   "id": "d5fa5e19",
   "metadata": {},
   "outputs": [
    {
     "name": "stdout",
     "output_type": "stream",
     "text": [
      "x:\n",
      " [2 1 4]\n",
      "y:\n",
      " [0 2 3]\n",
      "z:\n",
      " 14\n"
     ]
    }
   ],
   "source": [
    "x = np.random.randint(5,size=(3,))\n",
    "y = np.random.randint(5,size=(3,))\n",
    "\n",
    "print(\"x:\\n\",x)\n",
    "print(\"y:\\n\",y)\n",
    "\n",
    "z = np.dot(x,y)\n",
    "print(\"z:\\n\",z)"
   ]
  },
  {
   "cell_type": "code",
   "execution_count": 4,
   "id": "d802e4a9",
   "metadata": {},
   "outputs": [
    {
     "name": "stdout",
     "output_type": "stream",
     "text": [
      "x:\n",
      " [[1 3 2 3]\n",
      " [3 4 2 0]]\n",
      "y:\n",
      " [3 3 3 4]\n",
      "z:\n",
      " [30 27]\n",
      "z.ndim 1\n",
      "z.shape (2,)\n"
     ]
    }
   ],
   "source": [
    "x = np.random.randint(5,size=(2,4))\n",
    "y = np.random.randint(5,size=(4,))\n",
    "\n",
    "print(\"x:\\n\",x)\n",
    "print(\"y:\\n\",y)\n",
    "\n",
    "z = np.dot(x,y)\n",
    "print(\"z:\\n\",z)\n",
    "print(\"z.ndim\",z.ndim)\n",
    "print(\"z.shape\",z.shape)"
   ]
  },
  {
   "cell_type": "markdown",
   "id": "6a925398",
   "metadata": {},
   "source": [
    "\n",
    "```\n",
    "(a,b,c,d).(d,)>(a,b,c)\n",
    "\n",
    "(a,b,c,d).(d,e)>(a,b,c,e)\n",
    "```\n",
    "\n",
    "![img](images/002-003.png)\n",
    "\n"
   ]
  }
 ],
 "metadata": {
  "kernelspec": {
   "display_name": "Python 3 (ipykernel)",
   "language": "python",
   "name": "python3"
  },
  "language_info": {
   "codemirror_mode": {
    "name": "ipython",
    "version": 3
   },
   "file_extension": ".py",
   "mimetype": "text/x-python",
   "name": "python",
   "nbconvert_exporter": "python",
   "pygments_lexer": "ipython3",
   "version": "3.9.7"
  }
 },
 "nbformat": 4,
 "nbformat_minor": 5
}
