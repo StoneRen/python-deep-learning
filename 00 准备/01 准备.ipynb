{
 "cells": [
  {
   "cell_type": "markdown",
   "metadata": {},
   "source": [
    "- 建议用 conda 进行管理，也不是太推荐 miniconda\n",
    "- python版本选择3.7，否则后面会因为版本问题修改很多内容"
   ]
  }
 ],
 "metadata": {
  "language_info": {
   "name": "python"
  },
  "orig_nbformat": 4
 },
 "nbformat": 4,
 "nbformat_minor": 2
}
